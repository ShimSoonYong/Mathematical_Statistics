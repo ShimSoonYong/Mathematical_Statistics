{
 "cells": [
  {
   "cell_type": "markdown",
   "metadata": {},
   "source": [
    "# 교과목 소개"
   ]
  },
  {
   "cell_type": "markdown",
   "metadata": {},
   "source": [
    "과목명: 수리통계학  \n",
    "학정번호: IST3032  \n",
    "교수: 나성룡(연세대학교 데이터사이언스학부)  \n",
    "조교: 장정우(연세대학교 대학원 정보통계학과)  \n",
    "구분: 데이터사이언스학부 기본전공 전공필수  \n",
    "수강대상: 데이터사이언스 학부 2학년  \n",
    "선수과목: 응용확률모형론(권장)  "
   ]
  },
  {
   "cell_type": "markdown",
   "metadata": {},
   "source": [
    "__교재__\n",
    " - 주 교재\n",
    "    - 수리통계학, 개정판 (2021년)\n",
    "    - 김우철 지음, 민영사\n",
    "- 부 교재\n",
    "    - 수리통계학, 제 3판 (2016년)\n",
    "    - 나종화 지음, 자유아카데미\n"
   ]
  },
  {
   "cell_type": "markdown",
   "metadata": {},
   "source": [
    "__평가__\n",
    "- 중간: 30%\n",
    "- 기말: 40%\n",
    "- 기타 30%: 퀴즈, 보고서, 출결 등\n",
    "    - 퀴즈는 2회 정도"
   ]
  },
  {
   "cell_type": "markdown",
   "metadata": {},
   "source": [
    "수업 진행: 이론 3시간, 실습 1시간\n",
    "- 변동 가능"
   ]
  },
  {
   "cell_type": "markdown",
   "metadata": {},
   "source": [
    "## 수업 개요"
   ]
  },
  {
   "cell_type": "markdown",
   "metadata": {},
   "source": [
    "통계학 방법론의 이론적 기초를 수리적으로 공부  \n",
    "확률분포이론을 공부  \n",
    "통계적 추론의 핵심인 추정과 검정의 개념과 이론을 공부"
   ]
  },
  {
   "cell_type": "markdown",
   "metadata": {},
   "source": [
    "이론 강의 위주의 수업이다.  \n",
    "LearnUS를 이용하여 공지, 녹화자료, 강의자료, 과제 제출, 질의응답, 출석인정 등을 처리한다.  "
   ]
  },
  {
   "cell_type": "markdown",
   "metadata": {},
   "source": [
    "__실습시간__\n",
    "- 조교가 예제, 연습문제 풀이 진행\n",
    "- 대면 강의로 진행: 목요일 4교시"
   ]
  },
  {
   "cell_type": "markdown",
   "metadata": {},
   "source": [
    "### 교과목 특성"
   ]
  },
  {
   "cell_type": "markdown",
   "metadata": {},
   "source": [
    "이론적 기초 학습  \n",
    "기본적 통계학 개념과 미적분학 등의 수학적 기초 지식 필요  \n",
    "여러 과목의 선수과목 역할을 한다. 보험통계학, 시계열 분석, 확률과정론 등  \n",
    "주요 이론의 개념 이해와 반복적인 계산 연습이 필수이다."
   ]
  },
  {
   "cell_type": "markdown",
   "metadata": {},
   "source": [
    "### 수업 내용"
   ]
  },
  {
   "cell_type": "markdown",
   "metadata": {},
   "source": [
    "1. 확률 기초\n",
    "2. 분포 이론\n",
    "    - 이산분포, 연속분포\n",
    "    - 결합분포, 변수변환\n",
    "3. 추론\n",
    "    - 점추정, 최대우도추정, 구간추정\n",
    "    - 가설검정"
   ]
  }
 ],
 "metadata": {
  "kernelspec": {
   "display_name": "Python 3",
   "language": "python",
   "name": "python3"
  },
  "language_info": {
   "codemirror_mode": {
    "name": "ipython",
    "version": 3
   },
   "file_extension": ".py",
   "mimetype": "text/x-python",
   "name": "python",
   "nbconvert_exporter": "python",
   "pygments_lexer": "ipython3",
   "version": "3.10.0"
  }
 },
 "nbformat": 4,
 "nbformat_minor": 2
}
