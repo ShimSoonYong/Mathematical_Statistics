{
 "cells": [
  {
   "cell_type": "markdown",
   "metadata": {},
   "source": [
    "# 결합확률분포"
   ]
  },
  {
   "cell_type": "markdown",
   "metadata": {},
   "source": [
    "__Joint Probability Distribution__\n",
    "- 두 개 이상의 확률변수의 분포(간단히 결합분포)"
   ]
  },
  {
   "cell_type": "markdown",
   "metadata": {},
   "source": [
    "__결합확률밀도함수(joint pdf)__ : $(X,Y) \\sim f(x,y)$\n",
    "- 이산형: $f(x,y)=P(X=x, Y=y)$\n",
    "- 연속형: $P((X,Y) \\in A)= \\iint_A f(x,y) dxdy$"
   ]
  },
  {
   "cell_type": "markdown",
   "metadata": {},
   "source": [
    "이산형의 예\n",
    "- $f(x,y) = (x+y) / 21,\\ x=1, 2, 3,\\ y=1,2$"
   ]
  },
  {
   "cell_type": "code",
   "execution_count": 33,
   "metadata": {},
   "outputs": [
    {
     "name": "stdout",
     "output_type": "stream",
     "text": [
      "총확률: 1.0\n",
      "경우의 수에 따른 확률: [0.0952381  0.19047619 0.19047619 0.14285714 0.14285714 0.23809524]\n"
     ]
    }
   ],
   "source": [
    "import numpy as np\n",
    "\n",
    "x = np.array([1, 2, 3, 1, 2, 3])\n",
    "y = np.array([1, 2, 1, 2, 1, 2])\n",
    "\n",
    "temp_p = (x + y)/21\n",
    "\n",
    "print(f\"총확률: {np.sum(temp_p)}\")\n",
    "print(f\"경우의 수에 따른 확률: {temp_p}\")"
   ]
  },
  {
   "cell_type": "markdown",
   "metadata": {},
   "source": [
    "연속형의 예\n",
    "- $f(x,y) = x + y,\\ 0< x <1,\\ 0<y<1$"
   ]
  },
  {
   "cell_type": "code",
   "execution_count": 43,
   "metadata": {},
   "outputs": [
    {
     "data": {
      "text/plain": [
       "array([0.2, 0.4, 0.6, 0.8, 1. , 1.2, 1.4, 1.6, 1.8, 2. ])"
      ]
     },
     "execution_count": 43,
     "metadata": {},
     "output_type": "execute_result"
    }
   ],
   "source": [
    "x = np.linspace(0.1, 1, 10)\n",
    "y = np.linspace(0.1, 1, 10)\n",
    "\n",
    "x + y"
   ]
  },
  {
   "cell_type": "markdown",
   "metadata": {},
   "source": [
    "**예 2.1.2 (p.54)**:\n",
    "$$\n",
    "f(x, y) = 2 e^{-x-y} I_{(0 \\leq x \\leq y)}\n",
    "$$\n"
   ]
  },
  {
   "cell_type": "markdown",
   "metadata": {},
   "source": [
    "# 주변확률분포"
   ]
  },
  {
   "cell_type": "markdown",
   "metadata": {},
   "source": [
    "__주변확률밀도함수(marginal pdf)__\n",
    "- $X$의 (주변)확률밀도함수\n",
    "    - 이산형: $f_1(x) = \\sum_y f(x,y)$\n",
    "    - 연속형: $f_1(x) = \\int_{-\\infty}^{\\infty} f(x,y) dy$\n",
    "- $Y$의 주변확률밀도함수는 변수의 역할을 교환한다.\n",
    "    - 이산형: $f_2(y) = \\sum_x f(x,y)$\n",
    "    - 연속형: $f_2(y) = \\int_{-\\infty}^{\\infty} f(x,y) dx$"
   ]
  },
  {
   "cell_type": "markdown",
   "metadata": {},
   "source": [
    "주변확률밀도함수는 각 확률변수의 __실제 확률밀도함수__ 이다."
   ]
  },
  {
   "cell_type": "markdown",
   "metadata": {},
   "source": [
    "### 이산형의 예\n",
    "\n",
    "- $ f(x, y) = \\frac{x + y}{21}, \\quad x = 1, 2, 3, \\quad y = 1, 2 $\n",
    "- $ f_x(x) = \\sum_{y=1}^{2} \\frac{x + y}{21} = \\frac{(2x + 3)}{21}, \\quad x = 1, 2, 3 $\n",
    "- $ f_y(y) = \\sum_{x=1}^{3} \\frac{x + y}{21} = \\frac{(6 + 3y)}{21}, \\quad y = 1, 2 $\n",
    "- 각각은 pdf?\n",
    "\n",
    "### 연속형의 예\n",
    "\n",
    "- $ f(x, y) = x + y, \\quad 0 < x < 1, \\quad 0 < y < 1 $\n",
    "- $ f_x(x) = \\int_{-\\infty}^{\\infty} f(x, y) \\, dy = \\int_0^1 (x + y) \\, dy = x + \\frac{1}{2}, \\quad 0 < x < 1 $\n",
    "- $ f_y(y) = \\int_{-\\infty}^{\\infty} f(x, y) \\, dx = \\int_0^1 (x + y) \\, dx = \\frac{1}{2} + y, \\quad 0 < y < 1 $"
   ]
  },
  {
   "cell_type": "markdown",
   "metadata": {},
   "source": [
    "# 결합누적분포함수"
   ]
  },
  {
   "cell_type": "markdown",
   "metadata": {},
   "source": [
    "__Joint cdf__\n",
    "- $F(x,y) = P(X\\le x, Y \\le y)$: 두 확률변수에 대한 누적확률\n",
    "- 연속형: $F(x,y) = \\int_{-\\infty}^x \\int_{-\\infty}^y f(s, t) dtds$"
   ]
  },
  {
   "cell_type": "markdown",
   "metadata": {},
   "source": [
    "이산형의 예\n",
    "- $F(x,y) = \\sum_{s=1}^x \\sum_{t=1}^y (s+t) /21$"
   ]
  },
  {
   "cell_type": "markdown",
   "metadata": {},
   "source": [
    "연속형의 예\n",
    "- $F(x,y)=\\int_0^x \\int_0^y (s+t) dtds$"
   ]
  },
  {
   "cell_type": "markdown",
   "metadata": {},
   "source": [
    "연속형일 때 $f(x,y) =(d^2 / dxdy)F(x,y)$ 성립\n",
    "- 연속형의 예: $F(x,y)=\\int_0^x (sy+y^2/2)ds = x^2y/2 + xy^2/2$\n",
    "- $(d/dy)F(x,y)=x^2/2 +xy$\n",
    "- $(d^2 / dxdy)F(x,y) = x+y$"
   ]
  },
  {
   "cell_type": "markdown",
   "metadata": {},
   "source": [
    "# 결합확률분포의 특성치"
   ]
  },
  {
   "cell_type": "markdown",
   "metadata": {},
   "source": [
    "두 확률변수의 함수 $g(X,Y)$의 기대값\n",
    "- 이산형: $E(g(X,Y))=\\sum_x \\sum_y g(x,y)f(x,y)$\n",
    "- 연속형: $E(g(X,Y))=\\int_{-\\infty}^{\\infty}\\int_{-\\infty}^{\\infty} g(x,y)f(x,y) dxdy$"
   ]
  },
  {
   "cell_type": "markdown",
   "metadata": {},
   "source": [
    "예. $g(X,Y)=X,\\ f(x,y)=x+y,\\quad 0 < x < 1,\\ 0<y < 1$\n",
    "- $E(g(X,Y))=\\int_0^1\\int_0^1 x(x+y)dxdy = 7/12$"
   ]
  },
  {
   "cell_type": "markdown",
   "metadata": {},
   "source": [
    "예 2.2.1(p.60) $E(XY)=?$\n",
    "- $f(x,y) = 120xy(1-x-y) I_{(x>0, y>0, x+y < 1)}$"
   ]
  },
  {
   "cell_type": "markdown",
   "metadata": {},
   "source": [
    "예 2.2.2(p.61), 예 2.2.1의 계속\n",
    "- $E(X)=\\iint xf(x,y) dydx=1/3\\ (=\\int xf_1(x)dx)$\n",
    "- 결합분포의 기대값과 주변분포의 기대값(평균)은 동일하다."
   ]
  },
  {
   "cell_type": "markdown",
   "metadata": {},
   "source": [
    "## 공분산과 상관계수\n",
    "가장 많이 사용되는 두 확률변수 사이의 특성치"
   ]
  },
  {
   "cell_type": "markdown",
   "metadata": {},
   "source": [
    "__공분산(covraince)__\n",
    "- $Cov(X,Y)=E [(X-\\mu_x)(Y-\\mu_y)]\\ (=\\sigma_{XY})$\n",
    "- 두 확률변수가 평균을 중심으로 같이 증가 또는 감소하는 경향을 나타내는 특성값"
   ]
  },
  {
   "cell_type": "markdown",
   "metadata": {},
   "source": [
    "__상관계수(correlation)__\n",
    "- $Corr(X,Y) = Cov(X,Y) / \\sigma_X \\sigma_Y\\ (=\\rho_{XY})$\n",
    "- 공분산을 단위와 무관하게 표준화한 개념"
   ]
  },
  {
   "cell_type": "markdown",
   "metadata": {},
   "source": [
    "예 2.2.3, 예 2.2.4(p.64)"
   ]
  },
  {
   "cell_type": "markdown",
   "metadata": {},
   "source": [
    "__공분산의 성질 (정리 2.2.2)__\n",
    "- $Cov(X,Y) = Cov(Y,X),\\quad Cov(X,X)=Var(X)$\n",
    "- $Cov(aX+b, cY+d) = acCov(X,Y)$\n",
    "- 계산 공식: $Cov(X,Y)=E(XY)-\\mu_X \\mu_Y$"
   ]
  },
  {
   "cell_type": "markdown",
   "metadata": {},
   "source": [
    "__상관계수의 성질 (정리 2.2.3)__\n",
    "- $Var \\left(\\frac{Y-\\mu_2}{\\sigma_2} - \\frac{\\rho(X-\\mu_1)}{\\sigma_1} \\right)=1-\\rho^2$\n",
    "- $|\\rho| \\le 1$\n",
    "- $\\rho$가 1에 가까우면 $X,Y$가 강한 양의 상관관계\n",
    "- $\\rho$가 -1에 가까우면 $X,Y$가 강한 음의 상관관계\n",
    "- $\\rho$가 0 근처의 값이면 $X,Y$는 약한 상관관계"
   ]
  },
  {
   "cell_type": "markdown",
   "metadata": {},
   "source": [
    "# 결합적률생성함수"
   ]
  },
  {
   "cell_type": "markdown",
   "metadata": {},
   "source": [
    "$$\n",
    "M(t_1, t_2) = E[ \\exp(t_1 X + t_2 Y)]\n",
    "$$"
   ]
  },
  {
   "cell_type": "markdown",
   "metadata": {},
   "source": [
    "__결합적률생성함수의 성질 (정리 2.2.4)__\n",
    "- 결합적률을 생성: $E(X^r Y^s) = M^{(r,s)}(0,0)$\n",
    "- 분포 결정성(분포와 일대일 대응) 보유"
   ]
  },
  {
   "cell_type": "markdown",
   "metadata": {},
   "source": [
    "__주변적률생성함수__\n",
    "- $M(t_1, 0) = E[ \\exp(t_1 X + 0 \\cdot Y)]= E[\\exp(t_1, X)]=M_X(t_1) \\to\\ X$의 mgf\n",
    "- 같은 식으로 $M(0, t_2) = M_Y(t_2)=Y\\text{의 mgf}$\n",
    "- Joint mgf는 marginal mgf를 쉽게 결정한다.\n",
    "- 예 2.2.5 (p.68)"
   ]
  },
  {
   "cell_type": "markdown",
   "metadata": {},
   "source": [
    "# 조건부확률분포"
   ]
  },
  {
   "cell_type": "markdown",
   "metadata": {},
   "source": [
    "__조건부확률밀도함수(conditional pdf)__\n",
    "- $X=x$가 주어질 때 $Y$의 conditional pdf\n",
    "- $f(y|x) = f_{2|1}(y|x) = f(x,y)/f_1(x),\\quad f_1(x)>0,\\ y$가 변수인 함수임\n",
    "- $Y|X = x~pdf\\ f_{2|1}(y|x)$\n",
    "- 역할을 바꾸어 $f(x|y) = f_{1|2}(x|y) = f(x,y)/f_1(y),\\quad f_2(y)>0$"
   ]
  },
  {
   "cell_type": "markdown",
   "metadata": {},
   "source": [
    "__조건부 pdf의 의미__\n",
    "- 이산형의 경우에는 실제의 조건부확률이다.\n",
    "- $f(y|x)=f(x,y)/f_1(x) = P(X=x, Y=y)/P(X=x)=P(Y=y|X=x)$\n",
    "- 연속형은 개념적으로 확장\n",
    "- 이산형: $\\sum_y f(y|x) \\equiv 1$\n",
    "- 연속형: $\\int_{-\\infty}^{\\infty}f(y|x) dy \\equiv 1$"
   ]
  },
  {
   "cell_type": "markdown",
   "metadata": {},
   "source": [
    "이산형 예제\n",
    "- $f(x,y) = (x+y)/21,\\quad x=1,2,3\\ y=1,2$\n",
    "    - $f_1(x) = (2x+3)/21,\\quad x=1,2,3$\n",
    "    - $f_2(y) = (3y + 6)/21,\\quad y=1,2$\n",
    "    - $f(x|y) = f(x,y)/f_2(y)=(x+y)/(3y+6),\\quad x=1,2,3$\n",
    "    - $y=1:\\ f(x|1)=(x+1)/9,\\quad x=1,2,3$\n",
    "    - $y=2:\\ f(x|2)=(x+2)/12,\\quad x=1,2,3$\n",
    "    - $f(y|x)?\\quad x=1,x=2,x=3$"
   ]
  },
  {
   "cell_type": "markdown",
   "metadata": {},
   "source": [
    "예 2.3.1 (p.70), 예 2.3.2 (p.72)"
   ]
  },
  {
   "cell_type": "markdown",
   "metadata": {},
   "source": [
    "조건부확률의 성질 (정리 2.3.1)\n",
    "- $P(a<X < b , c < Y <d)=\\int_a^b P(c< Y <d |X=x)f_1(x)dx$\n",
    "- (조건부 = 결합/주변)이므로 (결합=조건부 X 주변)"
   ]
  },
  {
   "cell_type": "markdown",
   "metadata": {},
   "source": [
    "## 조건부기대값"
   ]
  },
  {
   "cell_type": "markdown",
   "metadata": {},
   "source": [
    "__조건부평균__\n",
    "- $E(Y|X=x)=\\int_{-\\infty}^{\\infty}yf(y|x)dy\\ \\text{(연속형)}$\n",
    "- $E(Y|X=x)=\\sum_{y}yf(y|x)\\ \\text{(이산형)}$\n",
    "- 조건부평균은 $x$의 함수, 즉 조건의 함수이다."
   ]
  },
  {
   "cell_type": "markdown",
   "metadata": {},
   "source": [
    "__조건부기대값(conditional expectation)__\n",
    "- 이산형: $E[g(X,Y)|X=x] = \\sum_y g(x,y)f(y|x)$\n",
    "- 연속형: $E[g(X,Y)|X=x] = \\int_{-\\infty}^{\\infty} g(x,y)f(y|x)dy$\n",
    "- 조건부기대값의 결과는 $x$(조건)의 함수\n",
    "- $X,Y$의 역할을 변경하면 $X|Y=y$의 조건부기대값"
   ]
  },
  {
   "cell_type": "markdown",
   "metadata": {},
   "source": [
    "__조건부분산__\n",
    "- 조건부기대값의 특수한 경우\n",
    "- $Var(Y|X=x)=E[(Y-E(Y|x))^2|x]=E[Y^2|x]-(E[Y|x])^2$"
   ]
  },
  {
   "cell_type": "markdown",
   "metadata": {},
   "source": [
    "__연속형 예제__\n",
    "- $f(x,y)=2 I_{(0<x<y<1)}$\n",
    "    - $f_1(x) = 2(1-x),\\ 0<x<1$\n",
    "    - $f(y|x) = 1/(1-x),\\ x<y<1$\n",
    "    - $E(Y|x) = \\int_x^1 y \\times 1/(1-x)dy=(1+x)/2,\\ 0<x<1$\n",
    "    - $E(Y^2|x)?\\ Var(Y|x)=E(Y^2|x)-E(Y|x)^2=(x-1)^2/12$\n",
    "    - $P(5/8 < Y < 7/8 | X=1/4)=\\int_{5/8}^{7/8} 1/(1-1/4)dy = 1/3$"
   ]
  },
  {
   "cell_type": "markdown",
   "metadata": {},
   "source": [
    "예 2.3.4 (p.74), 예 2.3.5(p.75)"
   ]
  },
  {
   "cell_type": "markdown",
   "metadata": {},
   "source": [
    "__확률변수로서의 조건부기대값__\n",
    "- $E[g(Y)|X]=E[g(Y)|X=x]|_{x=X}$\n",
    "- __조건을__ 고정된 값이 아닌 확률변수 취급\n",
    "- 확률변수 버전의 조건부기대값은 확률변수의 함수\n",
    "    - $E[g(Y)|x]=h(x)$ 이면 $E[g(Y)|X]=h(X)$\n",
    "- 조건부기대값의 확률변수 버전은 기대값을 연산할 수 있다."
   ]
  },
  {
   "cell_type": "markdown",
   "metadata": {},
   "source": [
    "예 2.3.6 (p.76)"
   ]
  },
  {
   "cell_type": "markdown",
   "metadata": {},
   "source": [
    "$E(Y|X=x)= (1-x)/2,\\ Var(Y|X=x)=(1-x)^2/20$"
   ]
  },
  {
   "cell_type": "markdown",
   "metadata": {},
   "source": [
    "__이중기대값정리(정리 2.3.4)__\n",
    "- $E[E(Y|X)]=E(Y)$\n",
    "- $Cov(Y-E(Y|X), X) = 0$\n",
    "- 일반적으로 $E[E[g(Y)|X]]=E(g(Y))$\n",
    "    - 유용한 계산 공식임"
   ]
  },
  {
   "cell_type": "markdown",
   "metadata": {},
   "source": [
    "$$\n",
    "E[E[g(Y)|X]]=\\int_{-\\infty}^{\\infty} E(Y|X=x) \\cdot f_1(x) dx \\\\\n",
    "= \\int_{-\\infty}^{\\infty}\\int_{-\\infty}^{\\infty} y \\cdot f(y|x) dy f_1(x) dx \\\\\n",
    "- \\int_{-\\infty}^{\\infty}\\int_{-\\infty}^{\\infty} y \\cdot f(x,y) dydx \\\\\n",
    "= E(Y)\n",
    "$$"
   ]
  },
  {
   "cell_type": "markdown",
   "metadata": {},
   "source": [
    "예 2.3.7 (p.77)"
   ]
  },
  {
   "cell_type": "markdown",
   "metadata": {},
   "source": [
    "__분산의 분해 (정리 2.3.6)__\n",
    "- $Var(Y)=E[Var(Y|X) + Var[E(Y|X)]]$\n",
    "- 분산 = 조건부분산의 기대값 + 조건부기대값의 분산\n",
    "- 조건부분포를 이용한 유용한 계산 공식\n",
    "- (증명)\n",
    "$$\n",
    "Var(Y)=E(Y^2) - E(Y)^2 \\\\\n",
    "= E(E(Y^2|X)) - E(E(Y|X)^2) + E(E(Y|X)^2) - E(E(Y|X))^2 \\\\\n",
    "=E[E(Y^2|X) - E(Y|X)^2] + Var[E(Y|X)] \\\\\n",
    "= E[Var(Y|X)] + Var[E(Y|X)]\n",
    "$$"
   ]
  },
  {
   "cell_type": "markdown",
   "metadata": {},
   "source": [
    "__예 2.3.8 (p.79)__"
   ]
  },
  {
   "cell_type": "markdown",
   "metadata": {},
   "source": [
    "결합 pdf\n",
    "$$\n",
    "f(x,y)=120xy(1-x-y) I_{(x \\ge 0, y \\ge 0, x+y \\le 1)}\n",
    "$$"
   ]
  },
  {
   "cell_type": "markdown",
   "metadata": {},
   "source": [
    "주변 pdf\n",
    "\n",
    "$$\n",
    "f_1(x)= \\int_0^{1-x} 120xy(1-x-y) dy \\\\\n",
    "= 20x(1-x)^3, \\quad 0<x \\le 1\n",
    "$$\n",
    "\n",
    "이걸로 $x$의 평균을 결정할 수 있다. \n",
    "$$\n",
    "E(X) = 1/3, E(X^2)=1/7, Var(X)= 2/63\n",
    "$$"
   ]
  },
  {
   "cell_type": "markdown",
   "metadata": {},
   "source": [
    "$$\n",
    "E(Y)=1/3, Var(Y)=2/63\n",
    "$$"
   ]
  },
  {
   "cell_type": "markdown",
   "metadata": {},
   "source": [
    "\n",
    "조건부 pdf\n",
    "\n",
    "$$\n",
    "f(y|x)= joint(y,x) / margin(x) = 6y(1-x-y)/(1-x)^3, \\quad 0<y<1-x\n",
    "$$"
   ]
  },
  {
   "cell_type": "markdown",
   "metadata": {},
   "source": [
    "조건부 분포가 도출되면 조건부기대값, 즉 조건부평균과 조건부분산을 구할 수 있다."
   ]
  },
  {
   "cell_type": "markdown",
   "metadata": {},
   "source": [
    "$$\n",
    "E(Y|X=x) = (1-x)/2 \\\\\n",
    "E(Y^2|X=x) = 3(1-x)^2/ 10 \\\\\n",
    "Var(Y|X=x) = (1-x)^2/20\n",
    "$$"
   ]
  },
  {
   "cell_type": "markdown",
   "metadata": {},
   "source": [
    "$X$를 확률변수로 취급해도 유사하다.\n",
    "\n",
    "$$\n",
    "E(Y|X)= (1-X)/2 \\\\\n",
    "Var(Y|X) = (1-X)^2/20\n",
    "$$"
   ]
  },
  {
   "cell_type": "markdown",
   "metadata": {},
   "source": [
    "__이중기대값 정리를 확인__\n",
    "\n",
    "$$\n",
    "E(Y|X) = (1-X)/2,\\ Var(Y|X) = (1-X)^2/20 \\\\\n",
    "\n",
    "(i)\\quad E(E(Y|X)) = E((1-X)/2) =(1/2)(1-1/3)=1/3 = E(Y) \\\\\n",
    "(ii) \\quad E(Var(Y|X)) + Var(E(Y|X)) \\\\\n",
    "= E((1-X)^2/20) + Var((1-X)/2) = (1/20) (E(X^2) - 2E(X)-1) + (1/4)Var(X)\\\\\n",
    "= (1/20)(1/7 - 2 \\times 1/3 +1) + 1/4 \\times 2/63 \\\\\n",
    "= 2/ 63 = Var(Y)\n",
    "$$"
   ]
  },
  {
   "cell_type": "markdown",
   "metadata": {},
   "source": [
    "# 확률변수의 독립성"
   ]
  },
  {
   "cell_type": "markdown",
   "metadata": {},
   "source": [
    "__두 확률변수 $X,Y$의 독립(정리 2.4.1)__\n",
    "- 누적분포함수 이용: $F(x,y)=F_X(x)F_Y(y)$\n",
    "- 확률밀도함수 이용: $f(x,y)=f_X(x)f_Y(y)$\n",
    "- 적률생성함수 이용: $M(t_1, t_2)=M_1(t_1)M_2(t_2)$\n",
    "- 확률측도 이용: $P(X \\in A, Y \\in B) = P(X \\in A) P (Y \\in B)$"
   ]
  },
  {
   "cell_type": "markdown",
   "metadata": {},
   "source": [
    "__독립의 의미__\n",
    "- 확률변수가 독립적인 값을 가진다는 의미 (사건의 독립)\n",
    "- 위의 4가지 조건은 서로 동치이다."
   ]
  },
  {
   "cell_type": "markdown",
   "metadata": {},
   "source": [
    "예 2.4.1 (p.81), 예 2.4.2(p.82)"
   ]
  },
  {
   "cell_type": "markdown",
   "metadata": {},
   "source": [
    "__확률변수 독립의 동치조건__\n",
    "- $f(x,y)=f_1(x)f_2(y)=g_1(x)g_2(y)$\n",
    "- $x$의 함수, $y$의 함수의 곱으로 표현될 수 있어도 독립이다."
   ]
  },
  {
   "cell_type": "markdown",
   "metadata": {},
   "source": [
    "__독립인 확률변수의 성질. $X,Y$가 독립이면:__\n",
    "- (정리 2.4.2) 각 확률변수의 함수 $g_1(X),g_2(Y)$도 독립\n",
    "- (정리 2.4.3) $E(g_1(X)g_2(Y))=E(g_1(X))E(g_2(Y))$\n",
    "- (정리 2.4.4) $Cov(X,Y)=0$ (역은 미성립, 예 2.4.3)\n",
    "    - $Cov(X,Y) = E(XY) - E(X)E(Y) = E(X)E(Y) - E(X)E(Y) = 0$\n",
    "    - 공분산이 0이면 상관계수도 0이다.\n",
    "    - 그러나 공분산이 0이면 독립인 것은 아니다.\n",
    "- (정리 2.4.5) $Var(X+Y) = Var(X) + Var(Y)$\n",
    "    - 원래 포함된 $2Cov(X,Y)$가 0이 되어 소거됨"
   ]
  },
  {
   "cell_type": "markdown",
   "metadata": {},
   "source": [
    "# 다차원 확률변수의 분포\n",
    "\n",
    "이 수업에선 생략"
   ]
  },
  {
   "cell_type": "markdown",
   "metadata": {},
   "source": [
    "__확률벡터__\n",
    "- 확률변수 $X_1, X_2, ...,X_K$로 구성된 벡터\n",
    "    - 이산형 vs. 연속형\n",
    "    - 결합확률밀도함수, 주변확률밀도함수"
   ]
  },
  {
   "cell_type": "markdown",
   "metadata": {},
   "source": [
    "예 2.5.1 (p.85), 예 2.5.3 (p.86) 다항분포의 예"
   ]
  },
  {
   "cell_type": "markdown",
   "metadata": {},
   "source": [
    "확률벡터의 기대값, 평균벡터, (공)분산행렬, 확률변수의 행렬"
   ]
  },
  {
   "cell_type": "markdown",
   "metadata": {},
   "source": [
    "결합적률생성함수"
   ]
  },
  {
   "cell_type": "markdown",
   "metadata": {},
   "source": [
    "조건부확률밀도함수, 조건부기대값"
   ]
  }
 ],
 "metadata": {
  "kernelspec": {
   "display_name": "Python 3",
   "language": "python",
   "name": "python3"
  },
  "language_info": {
   "codemirror_mode": {
    "name": "ipython",
    "version": 3
   },
   "file_extension": ".py",
   "mimetype": "text/x-python",
   "name": "python",
   "nbconvert_exporter": "python",
   "pygments_lexer": "ipython3",
   "version": "3.10.0"
  }
 },
 "nbformat": 4,
 "nbformat_minor": 2
}
