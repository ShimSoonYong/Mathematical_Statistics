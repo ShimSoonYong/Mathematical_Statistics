{
 "cells": [
  {
   "cell_type": "markdown",
   "metadata": {},
   "source": [
    "# 1. 확률분포 외우기\n",
    "---\n",
    "\n",
    "### 1. 이항분포 (Binomial Distribution)\n",
    "\n",
    "- **정의**: 이항분포는 $ n $번의 독립적인 시행에서 각 시행의 성공 확률이 $ p $일 때, $ k $번 성공할 확률을 나타냅니다.\n",
    "  \n",
    "- **확률질량함수 (PMF)**:\n",
    "  $$\n",
    "  f(k; n, p) = \\binom{n}{k} p^k (1 - p)^{n - k}, \\quad k = 0, 1, 2, \\dots, n\n",
    "  $$\n",
    "\n",
    "- **범위**: $ k \\in \\{0, 1, \\dots, n\\} $\n",
    "\n",
    "- **적률생성함수 (MGF)**: $ M(t) = (1 - p + p e^t)^n $\n",
    "\n",
    "- **평균**: $ E[X] = np $\n",
    "\n",
    "- **분산**: $ \\text{Var}(X) = np(1 - p) $\n",
    "\n",
    "---\n",
    "\n",
    "### 2. 감마분포 (Gamma Distribution)\n",
    "\n",
    "- **정의**: 감마분포는 양의 실수 값에서 정의된 연속 확률 분포로, 주로 대기 시간 모델링에 사용됩니다. 모수는 형상 모수 $ \\alpha $와 척도 모수 $ \\beta $입니다.\n",
    "  \n",
    "- **확률밀도함수 (PDF)**:\n",
    "  $$\n",
    "  f(x; \\alpha, \\beta) = \\frac{x^{\\alpha - 1} e^{-x / \\beta}}{\\beta^\\alpha \\Gamma(\\alpha)}, \\quad x > 0\n",
    "  $$\n",
    "\n",
    "- **범위**: $ x \\in (0, \\infty) $\n",
    "\n",
    "- **적률생성함수 (MGF)**: $ M(t) = (1 - \\beta t)^{-\\alpha} $, for $ t < \\frac{1}{\\beta} $\n",
    "\n",
    "- **평균**: $ E[X] = \\alpha \\beta $\n",
    "\n",
    "- **분산**: $ \\text{Var}(X) = \\alpha \\beta^2 $\n",
    "\n",
    "---\n",
    "\n",
    "### 3. 포아송분포 (Poisson Distribution)\n",
    "\n",
    "- **정의**: 포아송분포는 단위 시간 또는 단위 공간에서 일정한 평균 발생률을 갖는 희귀 사건의 발생 횟수를 모델링합니다. 모수 $ \\lambda $는 평균 발생 횟수입니다.\n",
    "  \n",
    "- **확률질량함수 (PMF)**:\n",
    "  $$\n",
    "  f(k; \\lambda) = \\frac{\\lambda^k e^{-\\lambda}}{k!}, \\quad k = 0, 1, 2, \\dots\n",
    "  $$\n",
    "\n",
    "- **범위**: $ k \\in \\{0, 1, 2, \\dots\\} $\n",
    "\n",
    "- **적률생성함수 (MGF)**: $ M(t) = \\exp(\\lambda(e^t - 1)) $\n",
    "\n",
    "- **평균**: $ E[X] = \\lambda $\n",
    "\n",
    "- **분산**: $ \\text{Var}(X) = \\lambda $\n",
    "\n",
    "---\n",
    "\n",
    "### 4. 가우스분포 (정규분포, Gaussian Distribution)\n",
    "\n",
    "- **정의**: 가우스분포는 연속 확률 분포 중 가장 널리 사용되며, 중심극한정리에 의해 자연적으로 많은 데이터에서 나타납니다. 모수는 평균 $ \\mu $와 분산 $ \\sigma^2 $입니다.\n",
    "  \n",
    "- **확률밀도함수 (PDF)**:\n",
    "  $$\n",
    "  f(x; \\mu, \\sigma^2) = \\frac{1}{\\sqrt{2 \\pi \\sigma^2}} \\exp\\left(-\\frac{(x - \\mu)^2}{2 \\sigma^2}\\right), \\quad x \\in (-\\infty, \\infty)\n",
    "  $$\n",
    "\n",
    "- **범위**: $ x \\in (-\\infty, \\infty) $\n",
    "\n",
    "- **적률생성함수 (MGF)**: $ M(t) = \\exp\\left(\\mu t + \\frac{1}{2} \\sigma^2 t^2\\right) $\n",
    "\n",
    "- **평균**: $ E[X] = \\mu $\n",
    "\n",
    "- **분산**: $ \\text{Var}(X) = \\sigma^2 $\n",
    "\n",
    "---"
   ]
  },
  {
   "cell_type": "markdown",
   "metadata": {},
   "source": [
    "# 2. 변수변환 기본"
   ]
  },
  {
   "cell_type": "markdown",
   "metadata": {},
   "source": [
    "## (1)\n",
    "\n",
    "$N(0,1)$ , **표준정규분포**"
   ]
  },
  {
   "cell_type": "markdown",
   "metadata": {},
   "source": [
    "## (2)\n",
    "\n",
    "서로 독립이고 동일한 분포를 따르는 베르누이 확률변수들 $n$개의 합:\n",
    "- $B(n,p)$의 이항분포"
   ]
  },
  {
   "cell_type": "markdown",
   "metadata": {},
   "source": [
    "## (3)\n",
    "\n",
    "포아송 분포의 합은 포아송 분포: \n",
    "- $Poi(\\lambda_1 + \\lambda_2)$, 포아송분포"
   ]
  },
  {
   "cell_type": "markdown",
   "metadata": {},
   "source": [
    "## (4)\n",
    "\n",
    "표준정규분포의 제곱\n",
    "- $\\chi^2 (1)$, 자유도가 1인 카이제곱분포\n",
    "- $Gamma\\left(\\frac{1}{2}, 2\\right)$도 성립"
   ]
  },
  {
   "cell_type": "markdown",
   "metadata": {},
   "source": [
    "# 3. 기대값"
   ]
  },
  {
   "cell_type": "markdown",
   "metadata": {},
   "source": [
    "## (1) $h(a)=E[(X-a)^2]$을 $a$의 2차식으로 전개"
   ]
  },
  {
   "cell_type": "markdown",
   "metadata": {},
   "source": [
    "기대값의 성질 이용:\n",
    "\n",
    "$$\n",
    "E(X^2-2aX+a^2)= a^2 - 2E(X)a + E(X^2)\n",
    "$$"
   ]
  },
  {
   "cell_type": "markdown",
   "metadata": {},
   "source": [
    "## (2) $h(a)$를 최소화하는 $a$를 찾아라"
   ]
  },
  {
   "cell_type": "markdown",
   "metadata": {},
   "source": [
    "미분 사용:\n",
    "\n",
    "$$\n",
    "h'(a) = 2a- 2E(X) = 0 \\to a=E(X)\\\\\n",
    "\\therefore\\ \\argmax_{a} h(a) = E(X)\n",
    "$$"
   ]
  },
  {
   "cell_type": "markdown",
   "metadata": {},
   "source": [
    "완전제곱식 사용:\n",
    "\n",
    "$$\n",
    "h(a) = (a-E(X))^2 + E(X^2) - [E(X)]^2 \\to a=E(X)\n",
    "$$"
   ]
  },
  {
   "cell_type": "markdown",
   "metadata": {},
   "source": [
    "# 4. 지수분포의 성질들"
   ]
  },
  {
   "cell_type": "markdown",
   "metadata": {},
   "source": [
    "## (1) 확률밀도함수와 누적분포함수를 적어라"
   ]
  },
  {
   "cell_type": "markdown",
   "metadata": {},
   "source": [
    "$$\n",
    "f(x) = \\lambda e^{-\\lambda x}, 0<x<\\infty\n",
    "$$\n",
    "\n",
    "$$\n",
    "P(X>y) = \\int_{y}^{\\infty}\\lambda e^{-\\lambda x} dx = \\left[-e^{-\\lambda x} \\right]_y^\\infty = e^{-\\lambda y}\n",
    "$$"
   ]
  },
  {
   "cell_type": "markdown",
   "metadata": {},
   "source": [
    "## (2) $P(X>s+t|X>s)=P(X>t)$ 찾기"
   ]
  },
  {
   "cell_type": "markdown",
   "metadata": {},
   "source": [
    "$$\n",
    "P(X>s+t|X>s)=P(X>t) = \\frac{P(X>s+t|X>s)=P(X>t)}{P(X>s)} = \\frac{P(X>s+t)}{P(X>s)}\\\\\n",
    "=\\frac{e^{-\\lambda s+t}}{e^{-\\lambda s}} = e^{-\\lambda t}\n",
    "$$"
   ]
  },
  {
   "cell_type": "markdown",
   "metadata": {},
   "source": [
    "## (3) 지수분포의 비기억성 증명"
   ]
  },
  {
   "cell_type": "markdown",
   "metadata": {},
   "source": [
    "$$\n",
    "P(X>t) = e^{-\\lambda t} = P(X>s+t|X>s)\n",
    "$$"
   ]
  },
  {
   "cell_type": "markdown",
   "metadata": {},
   "source": [
    "# 5. 결합확률, 주변확률"
   ]
  },
  {
   "cell_type": "markdown",
   "metadata": {},
   "source": [
    "$$\n",
    "f(x,y)=2I_{(0<x<y<1)}\n",
    "$$"
   ]
  },
  {
   "cell_type": "markdown",
   "metadata": {},
   "source": [
    "## (1) $f_1(x)$를 구하라"
   ]
  },
  {
   "cell_type": "markdown",
   "metadata": {},
   "source": [
    "$$\n",
    "f_1(x) = \\int_x^1 2 dy = 2(1-x),\\ (x\\in (0,1))\n",
    "$$"
   ]
  },
  {
   "cell_type": "markdown",
   "metadata": {},
   "source": [
    "## (2) $E(X)$를 구하라"
   ]
  },
  {
   "cell_type": "markdown",
   "metadata": {},
   "source": [
    "$$\n",
    "E(X) = \\int_0^1 x\\cdot f_1(x) dx = \\int_0^1 x\\cdot 2(1-x) dx =1-\\frac{2}{3} =\\frac{1}{3}\n",
    "$$"
   ]
  },
  {
   "cell_type": "markdown",
   "metadata": {},
   "source": [
    "# 6. $X \\sim f(x) = 2x I_{(0<x<1)}$, $Y=X^2$"
   ]
  },
  {
   "cell_type": "markdown",
   "metadata": {},
   "source": [
    "## (1) 역변환의 도함수 구하기\n",
    "\n",
    "역변환:\n",
    "\n",
    "$X = \\sqrt{Y}=Y^{1/2}$\n",
    "\n",
    "도함수:\n",
    "\n",
    "$\\frac{dx}{dy}=\\frac{1}{2} \\cdot y^{-1/2} = \\frac{1}{2\\sqrt{y}}$"
   ]
  },
  {
   "cell_type": "markdown",
   "metadata": {},
   "source": [
    "## (2) Y의 확률밀도함수 구하기"
   ]
  },
  {
   "cell_type": "markdown",
   "metadata": {},
   "source": [
    "$$\n",
    "g(y) = f(\\sqrt(y)) \\cdot |\\frac{dx}{dy}| = 2\\sqrt{y} \\cdot \\frac{1}{2\\sqrt{y}}=1,\\ (y\\in (0,1))\n",
    "$$\n",
    "\n",
    "같은 표현: $I_{(0<y<1)}$"
   ]
  }
 ],
 "metadata": {
  "language_info": {
   "name": "python"
  }
 },
 "nbformat": 4,
 "nbformat_minor": 2
}
