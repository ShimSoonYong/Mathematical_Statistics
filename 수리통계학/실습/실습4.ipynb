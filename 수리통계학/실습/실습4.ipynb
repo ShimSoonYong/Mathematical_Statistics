{
 "cells": [
  {
   "cell_type": "markdown",
   "metadata": {},
   "source": [
    "p.147 예 4.1.6, p.149 예 4.1.7, P.151 예 4.1.8"
   ]
  },
  {
   "cell_type": "markdown",
   "metadata": {},
   "source": [
    "# p.147 예 4.1.6"
   ]
  },
  {
   "cell_type": "markdown",
   "metadata": {},
   "source": [
    "$$\n",
    "Y_1 = \\frac{X_1}{X_1+X_2},\\ Y_2 = X_1 + X_2\n",
    "$$\n",
    "\n",
    "$$\n",
    "pdf(Y_1, Y_2)=pdf(X_1,X_2) \\times |J|_{u^{-1}}\n",
    "$$"
   ]
  },
  {
   "cell_type": "markdown",
   "metadata": {},
   "source": [
    "$$\n",
    "pdf(x_1,x_2)=\\frac{1}{\\Gamma (\\alpha_1)\\Gamma(\\alpha_2)\\beta^{\\alpha_1 \\ \\alpha_2}}x_1^{\\alpha_1 -1} x_2^{\\alpha_2 -1}e^{-(x_1 + x_2 )/ \\beta}\n",
    "$$"
   ]
  },
  {
   "cell_type": "markdown",
   "metadata": {},
   "source": [
    "$$\n",
    "x = \\{(x_1,x_2)^t ; x_1 > 0 , x_2 > 0 \\}\n",
    "$$\n",
    "\n",
    "$$\n",
    "u(x_1,x_2)=(y_1,y_2)^t\n",
    "$$"
   ]
  },
  {
   "cell_type": "markdown",
   "metadata": {},
   "source": [
    "$$\n",
    "u = \\begin{cases}\n",
    "y_1 = \\frac{x_1}{x_1+x_2} \\\\\n",
    "y_2 = x_1 + x_2\n",
    "\\end{cases}\n",
    "\\to\n",
    "u^{-1} = \\begin{cases}\n",
    "x_1 = y_1y_2\\\\\n",
    "x_2 = y_2(1-y_1)\n",
    "\\end{cases}\n",
    "$$"
   ]
  },
  {
   "cell_type": "markdown",
   "metadata": {},
   "source": [
    "$$\n",
    "y = \\{(y_1,y_2)^t : y_1y_2 >0 , y_2(1-y_2) >0\\} \\to 0<y_1<1, y_2 >0\n",
    "$$"
   ]
  },
  {
   "cell_type": "markdown",
   "metadata": {},
   "source": [
    "$$\n",
    "J = \\begin{vmatrix}\n",
    "\\frac{\\partial x_1}{\\partial y_1}&\\frac{\\partial x_2}{\\partial y_1}\\\\\n",
    "\\frac{\\partial x_1}{\\partial y_2}&\\frac{\\partial x_2}{\\partial y_2}\n",
    "\\end{vmatrix}\n",
    "=\n",
    "\\begin{vmatrix}\n",
    "y_2&-y_2 \\\\ y_1 & 1-y_1\n",
    "\\end{vmatrix}\n",
    "= y_2 \\times (1-y_1) - (-y_2 \\times y_1) = y_2\n",
    "$$"
   ]
  },
  {
   "cell_type": "markdown",
   "metadata": {},
   "source": [
    "$$\n",
    "pdf(Y_1, Y_2)=\n",
    "\\frac{1}{\\Gamma (\\alpha_1)\\Gamma(\\alpha_2)\\beta^{\\alpha_1 \\ \\alpha_2}}y_1^{\\alpha_1 -1} (1-y_1)^{\\alpha_2 -1}y_2^{\\alpha_1 + \\alpha_2 -1}e^{-y_2/ \\beta}\n",
    "$$"
   ]
  },
  {
   "cell_type": "markdown",
   "metadata": {},
   "source": [
    "$$\n",
    "\\therefore\\ pdf(Y_1) = \\frac{y_1^{\\alpha_1 -1} (1-y_1)^{\\alpha_2 -1}}{\\Gamma(\\alpha_1)\\Gamma(\\alpha_2)}\\int_{-\\infty}^{\\infty} \\frac{1}{\\beta^{\\alpha_1 + \\alpha_2}}\\times y_2^{\\alpha_1 + \\alpha_2 -1} e^{-y_2 / \\beta} dy\n",
    "$$"
   ]
  },
  {
   "cell_type": "markdown",
   "metadata": {},
   "source": [
    "$$\n",
    "= \\frac{\\Gamma(\\alpha_1 + \\alpha_2)}{\\Gamma(\\alpha_1)\\Gamma(\\alpha_2)} y_1^{\\alpha_1 -1}(1-y_1)^{\\alpha_2 -1} \\to Beta(\\alpha_1, \\alpha_2)\n",
    "$$"
   ]
  },
  {
   "cell_type": "markdown",
   "metadata": {},
   "source": [
    "$$\n",
    "\\therefore\\ pdf(Y_2) = \\frac{1}{\\Gamma(\\alpha_1 + \\alpha_2)\\beta^{\\alpha_1 + \\alpha_2}}y_2^{\\alpha_1 + \\alpha_2 -1}e^{-\\frac{y_2}{\\beta}}\n",
    "$$"
   ]
  },
  {
   "cell_type": "markdown",
   "metadata": {},
   "source": [
    "# 예제 4.1.7"
   ]
  },
  {
   "cell_type": "markdown",
   "metadata": {},
   "source": [
    "$$\n",
    "f(x) = I_{(0,1)}(x) ,\\ Y=(X_1 + X_2)/2\n",
    "$$"
   ]
  },
  {
   "cell_type": "markdown",
   "metadata": {},
   "source": [
    "새 변수변환식을 만들어 일대일 변환으로 만든다.\n",
    "\n",
    "$$\n",
    "Z = \\frac{X_1 - X_2}{2}\n",
    "$$"
   ]
  },
  {
   "cell_type": "markdown",
   "metadata": {},
   "source": [
    "$$\n",
    "u = \\begin{cases}\n",
    "(x_1+x_2)/2 \\\\ (x_1 - x_2)/2\n",
    "\\end{cases}\n",
    "\\to\n",
    "u^{-1}=\\begin{cases}\n",
    "x_1 = y + z\\\\ x_2 = y-z\n",
    "\\end{cases}\n",
    "$$"
   ]
  },
  {
   "cell_type": "markdown",
   "metadata": {},
   "source": [
    "정의역과 치역 구하기:\n",
    "\n",
    "$$\n",
    "x = \\{0<x_1<1, 0<x_1 <1 \\}, \\quad y=\\{0<y+x <1, 0<y-z<1 \\}\n",
    "$$"
   ]
  },
  {
   "cell_type": "markdown",
   "metadata": {},
   "source": [
    "자코비안 구하기:\n",
    "\n",
    "$$\n",
    "J=\\begin{vmatrix}\n",
    "\\frac{\\partial x_1}{\\partial y}&\\frac{\\partial x_2}{\\partial y}\\\\\n",
    "\\frac{\\partial x_1}{\\partial z}&\\frac{\\partial x_2}{\\partial z}\n",
    "\\end{vmatrix}\n",
    "=\n",
    "\\begin{vmatrix}\n",
    "1&1\\\\1&-1\n",
    "\\end{vmatrix}\n",
    "= -2\n",
    "$$"
   ]
  },
  {
   "cell_type": "markdown",
   "metadata": {},
   "source": [
    "$$\n",
    "pdf(Y)=\n",
    "\\begin{cases}\n",
    "\\int_{-y}^y 2 dz = 4yI_{(0, 1/2)}(y),\\ if\\ y \\le \\frac{1}{2}\\\\\n",
    "\\int_{y-1}^{1-y} 2dz = 4(1-y)I_{1/2, 1}(y),\\ if\\ y > \\frac{1}{2}\n",
    "\\end{cases}\n",
    "$$"
   ]
  },
  {
   "cell_type": "markdown",
   "metadata": {},
   "source": [
    "식을 하나로 합치기:\n",
    "$$\n",
    "pdf(Y) = 2 - 4 \\left|y-\\frac{1}{2} \\right| I_{(0,1)}(y)\n",
    "$$"
   ]
  },
  {
   "cell_type": "markdown",
   "metadata": {},
   "source": [
    "# 예 4.1.8"
   ]
  },
  {
   "cell_type": "markdown",
   "metadata": {},
   "source": [
    "정규분포 확률변수의 극좌표 변환 문제: \n",
    "\n",
    "$$\n",
    "\\begin{pmatrix}\n",
    "x = r\\cos\\theta \\\\ y = r\\sin\\theta\n",
    "\\end{pmatrix}\n",
    "$$"
   ]
  },
  {
   "cell_type": "markdown",
   "metadata": {},
   "source": [
    "결합 pdf:\n",
    "\n",
    "$$\n",
    "pdf(x,y) = \\frac{\\exp\\left(-\\frac{x^2 + y^2}{2} \\right)}{2\\pi}\n",
    "$$"
   ]
  },
  {
   "cell_type": "markdown",
   "metadata": {},
   "source": [
    "야코비안 행렬:\n",
    "\n",
    "$$\n",
    "J=\\begin{vmatrix}\n",
    "\\frac{\\partial x}{\\partial r}&\\frac{\\partial y}{\\partial r}\\\\\n",
    "\\frac{\\partial x}{\\partial \\theta}&\\frac{\\partial y}{\\partial \\theta}\n",
    "\\end{vmatrix}=\n",
    "\\begin{vmatrix}\n",
    "\\cos\\theta&\\sin\\theta \\\\ -r\\sin\\theta & r\\cos\\theta\n",
    "\\end{vmatrix}\n",
    "=r\n",
    "$$"
   ]
  },
  {
   "cell_type": "markdown",
   "metadata": {},
   "source": [
    "최종 극좌표 변환된 pdf:\n",
    "\n",
    "$$\n",
    "pdf(r,\\theta)= \\frac{1}{2\\pi}e^{-\\frac{1}{2} (x^2 + y^2)} \\cdot |r| = \\frac{1}{2\\pi}e^{-\\frac{1}{2} r^2}\\cdot |r|\\\\\n",
    "= re^{-\\frac{1}{2}r^2}I_{(0,\\infty)(r)} \\times \\frac{1}{2\\pi}I_{(0, 2\\pi)}(\\theta)\n",
    "$$"
   ]
  },
  {
   "cell_type": "markdown",
   "metadata": {},
   "source": [
    "각 변수의 주변 pdf:\n",
    "\n",
    "$$\n",
    "\\theta = U[0, 2\\pi)\\\\\n",
    "\\frac{R^2}{2} \\sim Exp(1) = e^{-x},\\ x=\\frac{r^2}{2}\n",
    "$$"
   ]
  }
 ],
 "metadata": {
  "language_info": {
   "name": "python"
  }
 },
 "nbformat": 4,
 "nbformat_minor": 2
}
