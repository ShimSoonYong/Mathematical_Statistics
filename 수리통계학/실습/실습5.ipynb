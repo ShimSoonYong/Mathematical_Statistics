{
 "cells": [
  {
   "cell_type": "markdown",
   "metadata": {},
   "source": [
    "p.157 예 4.2.1, p.160 정리 4.2.2(a)(c), p.162 정리 4.2.3, p.163 정리 4.2.4"
   ]
  },
  {
   "cell_type": "markdown",
   "metadata": {},
   "source": [
    "# 예 4.2.1"
   ]
  },
  {
   "cell_type": "markdown",
   "metadata": {},
   "source": [
    "$$\n",
    "X_1, \\cdots, X_r \\sim \\text{ iid } N(0,1)\n",
    "$$\n",
    "\n",
    "$$\n",
    "Y = X^2_1 + \\cdots + X^2_r \\sim \\chi^2(r) = Gamma\\left(\\frac{r}{2}, 2\\right)\n",
    "$$"
   ]
  },
  {
   "cell_type": "markdown",
   "metadata": {},
   "source": [
    "$$\n",
    "pdf(y) = \\frac{1}{\\Gamma \\left(\\frac{r}{2}\\right) 2^{r/2}} y^{r/2 -1} e^{-y/2} \\cdot I_{(0,\\infty)}(y)\n",
    "$$"
   ]
  },
  {
   "cell_type": "markdown",
   "metadata": {},
   "source": [
    "# 정리 4.2.2"
   ]
  },
  {
   "cell_type": "markdown",
   "metadata": {},
   "source": [
    "## (a) 표본평균의 분포를 적률생성함수로 유도하기"
   ]
  },
  {
   "cell_type": "markdown",
   "metadata": {},
   "source": [
    "$$\n",
    "X_1, \\cdots, X_n \\sim N(\\mu, \\sigma^2)\n",
    "$$"
   ]
  },
  {
   "cell_type": "markdown",
   "metadata": {},
   "source": [
    "\n",
    "\n",
    "### 문제 설정\n",
    "표본 $ X_1, X_2, \\ldots, X_n $이 독립이며 동일한 분포 $ N(\\mu, \\sigma^2) $를 따릅니다. 표본평균 $\\bar{X}$의 분포를 구하고자 합니다.\n",
    "\n",
    "$$\n",
    "\\bar{X} = \\frac{X_1 + X_2 + \\dots + X_n}{n}\n",
    "$$\n",
    "\n",
    "### 1. 적률생성함수 정의\n",
    "확률변수 $X_i \\sim N(\\mu, \\sigma^2)$의 적률생성함수 $ M_{X_i}(t) $는 다음과 같이 주어집니다:\n",
    "\n",
    "$$\n",
    "M_{X_i}(t) = \\mathbb{E}\\left[e^{t X_i}\\right] = \\exp\\left(\\mu t + \\frac{1}{2} \\sigma^2 t^2\\right)\n",
    "$$\n",
    "\n",
    "### 2. 표본평균 $\\bar{X}$의 적률생성함수 계산\n",
    "표본평균 $\\bar{X}$의 적률생성함수 $ M_{\\bar{X}}(s) $는 다음과 같습니다.\n",
    "\n",
    "$$\n",
    "M_{\\bar{X}}(s) = \\mathbb{E}\\left[e^{s \\bar{X}}\\right]\n",
    "$$\n",
    "\n",
    "$$\n",
    "= \\mathbb{E}\\left[e^{s \\frac{X_1 + X_2 + \\dots + X_n}{n}}\\right]\n",
    "$$\n",
    "\n",
    "### 3. 독립성 이용 및 적률생성함수 성질 적용\n",
    "표본 $ X_1, X_2, \\dots, X_n $이 독립이므로, 적률생성함수의 곱으로 표현할 수 있습니다.\n",
    "\n",
    "$$\n",
    "M_{\\bar{X}}(s) = \\mathbb{E}\\left[e^{\\frac{s}{n} X_1} \\cdot e^{\\frac{s}{n} X_2} \\cdots e^{\\frac{s}{n} X_n}\\right] = M_{X_1}\\left(\\frac{s}{n}\\right) \\cdot M_{X_2}\\left(\\frac{s}{n}\\right) \\cdots M_{X_n}\\left(\\frac{s}{n}\\right)\n",
    "$$\n",
    "\n",
    "$$\n",
    "= \\left(M_{X}\\left(\\frac{s}{n}\\right)\\right)^n\n",
    "$$\n",
    "\n",
    "### 4. $ M_X \\left(\\frac{s}{n}\\right) $에 값 대입\n",
    "위에서 $ M_X(t) = \\exp\\left(\\mu t + \\frac{1}{2} \\sigma^2 t^2\\right) $이므로, $ t = \\frac{s}{n} $을 대입하면:\n",
    "\n",
    "$$\n",
    "M_X\\left(\\frac{s}{n}\\right) = \\exp\\left(\\mu \\frac{s}{n} + \\frac{1}{2} \\sigma^2 \\left(\\frac{s}{n}\\right)^2\\right)\n",
    "$$\n",
    "\n",
    "따라서, $ M_{\\bar{X}}(s) $는 다음과 같이 됩니다.\n",
    "\n",
    "$$\n",
    "M_{\\bar{X}}(s) = \\left(\\exp\\left(\\mu \\frac{s}{n} + \\frac{1}{2} \\sigma^2 \\frac{s^2}{n^2}\\right)\\right)^n\n",
    "$$\n",
    "\n",
    "$$\n",
    "= \\exp\\left(n \\cdot \\left(\\mu \\frac{s}{n} + \\frac{1}{2} \\sigma^2 \\frac{s^2}{n^2}\\right)\\right)\n",
    "$$\n",
    "\n",
    "$$\n",
    "= \\exp\\left(\\mu s + \\frac{1}{2} \\sigma^2 \\frac{s^2}{n}\\right)\n",
    "$$\n",
    "\n",
    "### 5. 결과\n",
    "이 식은 정규분포의 적률생성함수 형태와 같으므로, $\\bar{X}$는 평균이 $\\mu$, 분산이 $\\frac{\\sigma^2}{n}$인 정규분포를 따릅니다.\n",
    "\n",
    "즉,\n",
    "$$\n",
    "\\bar{X} \\sim N\\left(\\mu, \\frac{\\sigma^2}{n}\\right)\n",
    "$$\n",
    "\n",
    "---"
   ]
  },
  {
   "cell_type": "markdown",
   "metadata": {},
   "source": [
    "## (b) 카이제곱 분포를 따르는 것을 적률생성함수로 증명"
   ]
  },
  {
   "cell_type": "markdown",
   "metadata": {},
   "source": [
    "$$\n",
    "\\frac{(n-1)S^2}{\\sigma^2}=\\sum \\frac{(X_i - \\bar{X})^2}{\\sigma^2} \\sim \\chi^2(n-1)\n",
    "$$"
   ]
  },
  {
   "cell_type": "markdown",
   "metadata": {},
   "source": [
    "$$\n",
    "\\sum (X_i - \\mu)^2 = \\sum (X_i - \\bar{X} + \\bar{X} - \\mu)^2 = \\sum(X_i - \\bar{X})^2 + n(\\bar{X} - \\mu)^2\n",
    "$$"
   ]
  },
  {
   "cell_type": "markdown",
   "metadata": {},
   "source": [
    "$$\n",
    "\\frac{\\sum (X_i - \\mu)^2}{\\sigma^2} =\\frac{\\sum(X_i - \\bar{X})^2}{\\sigma^2} + \\frac{n(\\bar{X} - \\mu)^2}{\\sigma^2}\n",
    "$$"
   ]
  },
  {
   "cell_type": "markdown",
   "metadata": {},
   "source": [
    "$$\n",
    "\\chi^2(n) = \\chi^2(x) + \\chi^2(1)\\\\\n",
    "mgf(t) = (1-2t)^{-\\frac{n}{2}} = (1-2t)^{-\\frac{x}{2}}\\times(1-2t)^{-\\frac{1}{2}}\\\\\n",
    "x = n-1\n",
    "$$\n",
    "\n",
    "$$\n",
    "\\therefore\\ \\sum \\frac{(X_i - \\bar{X})^2}{\\sigma^2} \\sim \\chi^2(n-1)\n",
    "$$"
   ]
  },
  {
   "cell_type": "markdown",
   "metadata": {},
   "source": [
    "# 정리 4.2.3"
   ]
  },
  {
   "cell_type": "markdown",
   "metadata": {},
   "source": [
    "$$ X_1, \\dots, X_n \\sim N(\\mu, \\sigma^2) $$\n",
    "\n",
    "1. **표본평균** $\\bar{X} = \\frac{1}{n} \\sum_{i=1}^n X_i$\n",
    "   $$ \\bar{X} \\sim N\\left(\\mu, \\frac{\\sigma^2}{n}\\right) $$\n",
    "\n",
    "2. **표준화 변수 정의**:\n",
    "   $$\n",
    "   Z = \\frac{\\bar{X} - \\mu}{\\sigma / \\sqrt{n}} \\sim N(0, 1)\n",
    "   $$\n",
    "\n",
    "3. **표본분산**:\n",
    "   $$\n",
    "   S^2 = \\frac{1}{n-1} \\sum_{i=1}^n (X_i - \\bar{X})^2\n",
    "   $$\n",
    "\n",
    "4. **카이제곱 분포 성질**:\n",
    "   $$\n",
    "   V = \\frac{(n-1)S^2}{\\sigma^2} \\sim \\chi^2(n-1)\n",
    "   $$\n",
    "\n",
    "5. **독립성**: $Z$와 $V$는 독립\n",
    "\n",
    "6. **t-분포 정의**:\n",
    "   $$\n",
    "   T = \\frac{Z}{\\sqrt{V / (n-1)}} \\sim t(n-1)\n",
    "   $$\n",
    "\n",
    "7. **변수 치환**:\n",
    "   $$\n",
    "   T = \\frac{\\bar{X} - \\mu}{S / \\sqrt{n}} = \\frac{\\left( \\bar{X} - \\mu \\right) \\cdot \\sigma}{\\sigma \\cdot S / \\sqrt{n}} = \\frac{Z}{\\sqrt{V / (n-1)}}\n",
    "   $$\n",
    "\n",
    "결론:\n",
    "$$\n",
    "T = \\frac{\\bar{X} - \\mu}{S / \\sqrt{n}} \\sim t(n-1)\n",
    "$$"
   ]
  },
  {
   "cell_type": "markdown",
   "metadata": {},
   "source": [
    "# 정리 4.2.4"
   ]
  },
  {
   "cell_type": "markdown",
   "metadata": {},
   "source": [
    "$$\n",
    "\\frac{(n-1)S^2}{\\sigma^2} \\sim \\chi^2(n-1)\n",
    "$$"
   ]
  },
  {
   "cell_type": "markdown",
   "metadata": {},
   "source": [
    "$$\n",
    "P\\left(\\chi^2_{(1-\\alpha/2)}(n-1) \\le \\frac{(n-1)S^2}{\\sigma^2} \\le \\chi^2_{\\alpha/2}(n-1)  \\right) = 1 - \\alpha\n",
    "$$"
   ]
  }
 ],
 "metadata": {
  "language_info": {
   "name": "python"
  }
 },
 "nbformat": 4,
 "nbformat_minor": 2
}
