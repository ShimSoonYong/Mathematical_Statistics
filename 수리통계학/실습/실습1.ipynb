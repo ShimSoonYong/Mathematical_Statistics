{
 "cells": [
  {
   "cell_type": "markdown",
   "metadata": {},
   "source": [
    "# 실습 정보"
   ]
  },
  {
   "cell_type": "markdown",
   "metadata": {},
   "source": [
    "석사 장정우\n",
    "조교 이메일: kohrak21@naver.com"
   ]
  },
  {
   "cell_type": "markdown",
   "metadata": {},
   "source": [
    "# 연습문제 풀이"
   ]
  },
  {
   "cell_type": "markdown",
   "metadata": {},
   "source": [
    "P.111, P.113, P.119, P.135, P.137 (교재 연습 3.5, 3.13)"
   ]
  },
  {
   "cell_type": "markdown",
   "metadata": {},
   "source": [
    "균등분포의 평균, 분산 유도 (강의자료)"
   ]
  },
  {
   "cell_type": "markdown",
   "metadata": {},
   "source": [
    "### P.111 초기하분포의 이항근사"
   ]
  },
  {
   "cell_type": "markdown",
   "metadata": {},
   "source": [
    "모집단의 크기: $N$  \n",
    "모집단의 부분집합: $K$  \n",
    "표본 크기: $n$  \n",
    "타겟 표본: $k$"
   ]
  },
  {
   "cell_type": "markdown",
   "metadata": {},
   "source": [
    "$$\n",
    "P(X = k) = \\frac{{\\binom{N}{k} \\binom{N - K}{n - k}}}{{\\binom{N}{n}}}\\\\ \n",
    "if\\ N \\to \\infty \\\\\n",
    "P(X = k) = \\binom{n}{k} p^k (1 - p)^{n - k}, \\quad k = 0, 1, 2, \\dots, n\n",
    "$$"
   ]
  },
  {
   "cell_type": "markdown",
   "metadata": {},
   "source": [
    "# P.113 $B(1, p) \\sim Z$"
   ]
  },
  {
   "cell_type": "markdown",
   "metadata": {},
   "source": [
    "$$\n",
    "\\sum_{i=1}^n Z_i \\sim B(n,p)\n",
    "$$"
   ]
  },
  {
   "cell_type": "markdown",
   "metadata": {},
   "source": [
    "$$\n",
    "E(x)=np,\\ V(x)=npq\n",
    "$$"
   ]
  },
  {
   "cell_type": "markdown",
   "metadata": {},
   "source": [
    "$$\n",
    "E(e^{tx})=mgf_{X}(t) \\to mgf_{\\sum_{i=1}^n Z_i}(t)=mgf_X (t)"
   ]
  },
  {
   "cell_type": "markdown",
   "metadata": {},
   "source": [
    "$$\n",
    "mgf_{\\sum_{i=1}^n Z_i}(t) = \\prod_{i=1}^n mgf_{Z_{i}}(t)\n",
    "$$"
   ]
  },
  {
   "cell_type": "markdown",
   "metadata": {},
   "source": [
    "베르누이 분포의 적률생성함수\n",
    "$$\n",
    "e^{tZ_1}\\times P(Z_i) \\to e^{t\\times 1} \\times P + e^{t \\times 0} \\times q = pe^{t} + q\n",
    "$$"
   ]
  },
  {
   "cell_type": "markdown",
   "metadata": {},
   "source": [
    "이항분포의 적률생성함수\n",
    "$$\n",
    "(pe^t + q)^n\n",
    "$$"
   ]
  },
  {
   "cell_type": "markdown",
   "metadata": {},
   "source": [
    "# P.119 이항분포의 포아송근사"
   ]
  },
  {
   "cell_type": "markdown",
   "metadata": {},
   "source": [
    "이항분포에서 $n \\to\\infty$이면 포아송분포가 된다."
   ]
  },
  {
   "cell_type": "markdown",
   "metadata": {},
   "source": [
    "$$\n",
    "B(n, p) = \\binom{n}{x} p^x (1 - p)^{n - x} \\to \\frac{np^x \\times e^{-np}}{x!} \\\\\n",
    "\\lambda = np \\\\\n",
    "\\frac{\\lambda^x \\times e^{\\lambda}}{x!} = Poi(\\lambda)\n",
    "$$"
   ]
  },
  {
   "cell_type": "markdown",
   "metadata": {},
   "source": [
    "# P.137 연습문제 3.13"
   ]
  },
  {
   "cell_type": "markdown",
   "metadata": {},
   "source": [
    "$$\n",
    "P(X > x+y | X>x)=P(X>y)\n",
    "$$"
   ]
  },
  {
   "cell_type": "markdown",
   "metadata": {},
   "source": [
    "$x$ 시점 이후 $y$ 시점이 지난 시점에 고장날 확률은 그냥 원점에서부터 $y$ 시점에 고장날 확률과 동일하다."
   ]
  },
  {
   "cell_type": "markdown",
   "metadata": {},
   "source": [
    "$$\n",
    "P(X>x+y|X>x)=P(X>y)\\\\\n",
    "\\frac{P(X>x+y, X>x)}{P(X>x)} \\to \\frac{P(X>x+y)}{P(X>x)}\\\\\n",
    "f(x) = \\lambda e^{-\\lambda x} = Exp(1/\\lambda)\n",
    "$$"
   ]
  },
  {
   "cell_type": "markdown",
   "metadata": {},
   "source": [
    "$$\n",
    "\\int_{x+y}^{\\infty}\\lambda e^{-\\lambda x} dx \\to 1- \\int_0^{x+y}\\lambda e^{-\\lambda x}dx\\\\\n",
    "\\lambda x = t,\\ \\lambda dx=dt \\\\\n",
    "1- \\int_0^{\\lambda (x+y)} e^{-t} dt\\\\\n",
    "\\int_0^{\\lambda (x+y)} e^{-t} dt = -e^{\\lambda (x+y)} -1 \\\\\n",
    "\\therefore e^{\\lambda (x+y)}\n",
    "$$"
   ]
  },
  {
   "cell_type": "markdown",
   "metadata": {},
   "source": [
    "$$\n",
    "P(X>x+y) = e^{\\lambda (x+y)},\\ P(X>x) = e^{\\lambda (x)} \\\\\n",
    "\\frac{P(X>x+y)}{P(X>x)} = e^{\\lambda y}=P(X>y)\n",
    "$$"
   ]
  },
  {
   "cell_type": "markdown",
   "metadata": {},
   "source": [
    "## 기하분포의 경우"
   ]
  },
  {
   "cell_type": "markdown",
   "metadata": {},
   "source": [
    "$$\n",
    "Geo(p) = (1-p)^{x-1}p\n",
    "$$"
   ]
  },
  {
   "cell_type": "markdown",
   "metadata": {},
   "source": [
    "등비급수를 이용한다.\n",
    "$$\n",
    "\\frac{a(1-r^n)}{1-r}\n",
    "$$"
   ]
  },
  {
   "cell_type": "markdown",
   "metadata": {},
   "source": [
    "여기서:\n",
    "- $r$: 공비\n",
    "- $a$: 첫 항\n",
    "- $n$: 시행횟수"
   ]
  },
  {
   "cell_type": "markdown",
   "metadata": {},
   "source": [
    "# 균등분포의 평균, 분산"
   ]
  },
  {
   "cell_type": "markdown",
   "metadata": {},
   "source": [
    "$U(a, b)$"
   ]
  },
  {
   "cell_type": "markdown",
   "metadata": {},
   "source": [
    "$$\n",
    "f(x)=\\begin{cases}\n",
    "\\frac{1}{b-a},\\ a<x<b \\\\\n",
    "0,\\ o.w.\n",
    "\\end{cases}\n",
    "$$"
   ]
  },
  {
   "cell_type": "markdown",
   "metadata": {},
   "source": [
    "$$\n",
    "E(x) = \\int_{-\\infty}^{\\infty}xf(x) dx \\to \\int_a^b x \\frac{1}{b-a}dx = \\frac{1}{2}(a+b)\n",
    "$$"
   ]
  },
  {
   "cell_type": "markdown",
   "metadata": {},
   "source": [
    "$$\n",
    "V(x)=E(x^2)-(E(x))^2 = \\int_a^b x^2 \\frac{1}{b-a}dx - \\bigg[\\frac{1}{2}(a+b) \\bigg]^2 = \\frac{1}{12}(a-b)^2\n",
    "$$"
   ]
  }
 ],
 "metadata": {
  "kernelspec": {
   "display_name": "Python 3",
   "language": "python",
   "name": "python3"
  },
  "language_info": {
   "codemirror_mode": {
    "name": "ipython",
    "version": 3
   },
   "file_extension": ".py",
   "mimetype": "text/x-python",
   "name": "python",
   "nbconvert_exporter": "python",
   "pygments_lexer": "ipython3",
   "version": "3.10.0"
  }
 },
 "nbformat": 4,
 "nbformat_minor": 2
}
