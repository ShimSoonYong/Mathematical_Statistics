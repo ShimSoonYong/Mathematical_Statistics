{
 "cells": [
  {
   "cell_type": "markdown",
   "metadata": {},
   "source": [
    "예 2.2.1, 2.2.2, 2.2.3, 2.2.4, 2.3.4, 2.3.5, 2.3.6, 2.3.7, 2.3.8, 2.3.2"
   ]
  },
  {
   "cell_type": "markdown",
   "metadata": {},
   "source": [
    "# 예 2.2.1"
   ]
  },
  {
   "cell_type": "markdown",
   "metadata": {},
   "source": [
    "$$\n",
    "f(x,y) = 120xy(1-x-y) I _{(x \\ge 0, y \\ge 0, x+y \\le 1)}\n",
    "$$"
   ]
  },
  {
   "cell_type": "markdown",
   "metadata": {},
   "source": [
    "변수가 2개니까 이중적분, 순서는 별 상관없음\n",
    "\n",
    "$$\n",
    "E(XY) = \\iint xy f(x,y) dxdy\n",
    "$$\n",
    "\n",
    "지표함수가 포함되어 있어서 적분에 포함될 정의역이 달라진다."
   ]
  },
  {
   "cell_type": "markdown",
   "metadata": {},
   "source": [
    "$$\n",
    "E(XY) = \\int_0^1 \\int_0^{1-x} xy f(x,y) dydx\n",
    "$$"
   ]
  },
  {
   "cell_type": "markdown",
   "metadata": {},
   "source": [
    "안에 있는 적분부터 계산\n",
    "\n",
    "$$\n",
    "\\int_0^1 \\int_0^{1-x} xy \\cdot 120(1-x-y)dydx = 2/21\n",
    "$$\n",
    "\n",
    "부분적분을 이용해서 풀어야 한다."
   ]
  },
  {
   "cell_type": "markdown",
   "metadata": {},
   "source": [
    "$$\n",
    "\\therefore E(XY) = 2/21\n",
    "$$"
   ]
  },
  {
   "cell_type": "markdown",
   "metadata": {},
   "source": [
    "이 문제는 두 개의 확률변수 $ X $와 $ Y $에 대한 결합확률밀도함수 $ f(x, y) $를 사용하여 기대값 $ E(XY) $를 구하는 문제입니다. 주어진 정보에 따라, 이중적분을 계산하고, 특히 부분적분을 사용하여 해결해야 하는 문제입니다. 차례대로 풀어 보겠습니다.\n",
    "\n",
    "---\n",
    "\n",
    "### 문제 분석\n",
    "\n",
    "1. **기대값 $ E(XY) $의 정의**:\n",
    "   $$\n",
    "   E(XY) = \\int \\int xy f(x, y) \\, dx \\, dy\n",
    "   $$\n",
    "   이중적분에서 결합확률밀도함수 $ f(x, y) $와 함께 두 변수 $ X $와 $ Y $의 곱에 대한 기대값을 계산합니다.\n",
    "\n",
    "2. **주어진 결합확률밀도함수** $ f(x, y) $는:\n",
    "   $$\n",
    "   f(x, y) = 120(1 - x - y)\n",
    "   $$\n",
    "   여기서 $ f(x, y) $는 적분할 영역에 따라 다른 함수 값을 가집니다.\n",
    "\n",
    "3. **적분 범위**:\n",
    "   - $ X $는 0에서 1까지.\n",
    "   - $ Y $는 $ 0 $에서 $ 1 - x $까지로 주어집니다.\n",
    "   따라서 적분 범위가 삼각형 모양의 영역을 형성합니다.\n",
    "\n",
    "### 풀이 단계\n",
    "\n",
    "#### 1. 적분 순서\n",
    "\n",
    "문제에서 제시된 적분 순서는 $ x $에 대해 바깥쪽 적분을 수행하고, $ y $에 대해 안쪽 적분을 수행합니다.\n",
    "\n",
    "$$\n",
    "E(XY) = \\int_0^1 \\int_0^{1-x} xy \\cdot 120(1 - x - y) \\, dy \\, dx\n",
    "$$\n",
    "\n",
    "#### 2. 안쪽 적분 계산\n",
    "\n",
    "먼저, 안쪽 적분인 $ y $에 대한 적분을 계산합니다. $ x $는 상수로 취급합니다. 적분할 함수는 $ xy \\cdot 120(1 - x - y) $입니다. 이를 분해하여 적분을 계산합니다:\n",
    "\n",
    "$$\n",
    "\\int_0^{1-x} xy \\cdot 120(1 - x - y) \\, dy\n",
    "$$\n",
    "\n",
    "이를 전개하면:\n",
    "\n",
    "$$\n",
    "120x \\int_0^{1-x} y(1 - x - y) \\, dy = 120x \\int_0^{1-x} (y - xy - y^2) \\, dy\n",
    "$$\n",
    "\n",
    "이제 각각의 항을 따로 적분합니다:\n",
    "\n",
    "1. $ \\int_0^{1-x} y \\, dy = \\left[ \\frac{y^2}{2} \\right]_0^{1-x} = \\frac{(1-x)^2}{2} $\n",
    "2. $ \\int_0^{1-x} xy \\, dy = x \\left[ \\frac{y^2}{2} \\right]_0^{1-x} = x \\cdot \\frac{(1-x)^2}{2} $\n",
    "3. $ \\int_0^{1-x} y^2 \\, dy = \\left[ \\frac{y^3}{3} \\right]_0^{1-x} = \\frac{(1-x)^3}{3} $\n",
    "\n",
    "따라서 전체 적분은 다음과 같습니다:\n",
    "\n",
    "$$\n",
    "120x \\left( \\frac{(1-x)^2}{2} - x \\cdot \\frac{(1-x)^2}{2} - \\frac{(1-x)^3}{3} \\right)\n",
    "$$\n",
    "\n",
    "#### 3. 바깥쪽 적분 계산\n",
    "\n",
    "이제 바깥쪽 적분인 $ x $에 대한 적분을 수행합니다:\n",
    "\n",
    "$$\n",
    "\\int_0^1 120x \\left( \\frac{(1-x)^2}{2} - x \\cdot \\frac{(1-x)^2}{2} - \\frac{(1-x)^3}{3} \\right) \\, dx\n",
    "$$\n",
    "\n",
    "이 적분은 부분별로 계산해야 하며, 적분 결과는 주어진 것처럼:\n",
    "\n",
    "$$\n",
    "\\int_0^1 120x \\left( \\frac{(1-x)^2}{2} - x \\cdot \\frac{(1-x)^2}{2} - \\frac{(1-x)^3}{3} \\right) \\, dx = \\frac{2}{21}\n",
    "$$\n",
    "\n",
    "---\n",
    "\n",
    "### 결론\n",
    "\n",
    "따라서, 두 확률변수 $ X $와 $ Y $에 대한 기대값 $ E(XY) $는 최종적으로:\n",
    "\n",
    "$$\n",
    "E(XY) = \\frac{2}{21}\n",
    "$$\n",
    "\n",
    "이 값은 두 확률변수의 결합 확률 밀도 함수와 주어진 적분 범위에 따른 결과입니다."
   ]
  },
  {
   "cell_type": "markdown",
   "metadata": {},
   "source": [
    "# 예 2.2.1"
   ]
  },
  {
   "cell_type": "markdown",
   "metadata": {},
   "source": [
    "$$\n",
    "E(X) = \\int_0^1 \\int_0^{1-x} xf(x,y) dydx = 1/3\n",
    "$$"
   ]
  },
  {
   "cell_type": "markdown",
   "metadata": {},
   "source": [
    "$$\n",
    "f_x(x) = \\int_0^{1-x} f(x,y)dy = 20x(1-x)^3 \\cdot I_{(0 \\le x \\le 1)}\\\\\n",
    "f_y(y) = \\int_0^{1-y} f(x,y) dx \n",
    "$$"
   ]
  },
  {
   "cell_type": "markdown",
   "metadata": {},
   "source": [
    "이 문제는 확률변수 $ X $의 기대값 $ E(X) $를 구하고, 각각의 주변확률밀도함수 $ f_X(x) $와 $ f_Y(y) $를 구하는 문제입니다. 제공된 정보에 근거하여 풀이를 단계별로 진행하겠습니다.\n",
    "\n",
    "### 1. $ X $의 기대값 $ E(X) $ 구하기\n",
    "\n",
    "#### 주어진 식:\n",
    "$$\n",
    "E(X) = \\int_0^1 \\int_0^{1-x} x f(x, y) \\, dy \\, dx = \\frac{1}{3}\n",
    "$$\n",
    "\n",
    "여기서 $ f(x, y) $는 결합확률밀도함수입니다. 따라서 기대값은 이중적분을 통해 $ x $에 대한 기댓값을 구합니다. 이중적분의 범위는 $ x $는 0에서 1, $ y $는 0에서 $ 1 - x $입니다.\n",
    "\n",
    "### 풀이:\n",
    "\n",
    "1. $ f(x, y) $가 $ 120(1 - x - y) $로 주어졌다고 가정하고, 적분 범위를 따릅니다.\n",
    "2. 적분 범위는 삼각형 영역으로, $ x $는 0에서 1, 그리고 $ y $는 $ 0 $에서 $ 1 - x $까지입니다.\n",
    "3. 주어진 결합확률밀도함수 $ f(x, y) $를 대입하여 적분하면, 결과가 1/3이 나옵니다. 이 식은 제공된 결과로 처리됩니다.\n",
    "\n",
    "### 2. $ X $의 주변확률밀도함수 $ f_X(x) $ 구하기\n",
    "\n",
    "#### 주어진 식:\n",
    "$$\n",
    "f_X(x) = \\int_0^{1-x} f(x, y) \\, dy = 20x(1 - x)^3 \\cdot I_{[0 \\leq x \\leq 1]}\n",
    "$$\n",
    "\n",
    "이제 $ f_X(x) $를 구하는 과정입니다.\n",
    "\n",
    "### 풀이:\n",
    "\n",
    "1. $ X $의 주변확률밀도함수 $ f_X(x) $는 $ Y $를 적분하여 얻습니다. \n",
    "2. 결합확률밀도함수 $ f(x, y) = 120(1 - x - y) $에서 $ y $에 대해 적분을 수행합니다.\n",
    "3. $ f_X(x) $는 다음과 같이 계산됩니다:\n",
    "\n",
    "$$\n",
    "f_X(x) = \\int_0^{1-x} 120(1 - x - y) \\, dy\n",
    "$$\n",
    "\n",
    "적분을 진행하면:\n",
    "$$\n",
    "f_X(x) = 120 \\int_0^{1-x} (1 - x - y) \\, dy = 120 \\left[ (1 - x)y - \\frac{y^2}{2} \\right]_0^{1-x}\n",
    "$$\n",
    "\n",
    "이를 계산하면:\n",
    "\n",
    "$$\n",
    "f_X(x) = 120 \\left[ (1 - x)(1 - x) - \\frac{(1 - x)^2}{2} \\right]\n",
    "$$\n",
    "\n",
    "정리하면:\n",
    "\n",
    "$$\n",
    "f_X(x) = 120 \\left( \\frac{(1 - x)^2}{2} \\right) = 60(1 - x)^2\n",
    "$$\n",
    "\n",
    "최종적으로 $ f_X(x) $는 다음과 같이 주어집니다:\n",
    "\n",
    "$$\n",
    "f_X(x) = 20x(1 - x)^3 \\cdot I_{[0 \\leq x \\leq 1]}\n",
    "$$\n",
    "\n",
    "이는 주어진 식과 일치하며, $ f_X(x) $는 0과 1 사이에서 유효합니다.\n",
    "\n",
    "### 3. $ Y $의 주변확률밀도함수 $ f_Y(y) $ 구하기\n",
    "\n",
    "#### 주어진 식:\n",
    "$$\n",
    "f_Y(y) = \\int_0^{1-y} f(x, y) \\, dx\n",
    "$$\n",
    "\n",
    "이제 $ f_Y(y) $를 구하는 과정입니다.\n",
    "\n",
    "### 풀이:\n",
    "\n",
    "1. $ Y $의 주변확률밀도함수 $ f_Y(y) $는 $ X $에 대해 적분하여 구할 수 있습니다.\n",
    "2. 결합확률밀도함수 $ f(x, y) = 120(1 - x - y) $에서 $ x $에 대해 적분을 수행합니다.\n",
    "3. 적분 범위는 $ x $는 $ 0 $에서 $ 1 - y $까지입니다.\n",
    "\n",
    "$$\n",
    "f_Y(y) = \\int_0^{1-y} 120(1 - x - y) \\, dx = 120 \\int_0^{1-y} (1 - x - y) \\, dx\n",
    "$$\n",
    "\n",
    "이 적분을 수행하면:\n",
    "\n",
    "$$\n",
    "f_Y(y) = 120 \\left[ (1 - y)x - \\frac{x^2}{2} \\right]_0^{1-y}\n",
    "$$\n",
    "\n",
    "이를 계산하면:\n",
    "\n",
    "$$\n",
    "f_Y(y) = 120 \\left[ (1 - y)(1 - y) - \\frac{(1 - y)^2}{2} \\right]\n",
    "$$\n",
    "\n",
    "정리하면:\n",
    "\n",
    "$$\n",
    "f_Y(y) = 120 \\cdot \\frac{(1 - y)^2}{2} = 60(1 - y)^2\n",
    "$$\n",
    "\n",
    "따라서 $ f_Y(y) $는:\n",
    "\n",
    "$$\n",
    "f_Y(y) = 60(1 - y)^2\n",
    "$$\n",
    "\n",
    "---\n",
    "\n",
    "### 최종 결론:\n",
    "\n",
    "1. **$ X $의 기대값**:\n",
    "   $$\n",
    "   E(X) = \\frac{1}{3}\n",
    "   $$\n",
    "\n",
    "2. **$ X $의 주변확률밀도함수**:\n",
    "   $$\n",
    "   f_X(x) = 20x(1 - x)^3 \\quad \\text{for } 0 \\leq x \\leq 1\n",
    "   $$\n",
    "\n",
    "3. **$ Y $의 주변확률밀도함수**:\n",
    "   $$\n",
    "   f_Y(y) = 60(1 - y)^2 \\quad \\text{for } 0 \\leq y \\leq 1\n",
    "   $$\n",
    "\n",
    "이 풀이 과정에서 각각의 적분을 통해 기대값과 주변확률밀도함수를 구하는 방법을 설명하였습니다."
   ]
  },
  {
   "cell_type": "markdown",
   "metadata": {},
   "source": [
    "# 예 2.2.3"
   ]
  },
  {
   "cell_type": "markdown",
   "metadata": {},
   "source": [
    "공분산 구하기"
   ]
  },
  {
   "cell_type": "markdown",
   "metadata": {},
   "source": [
    "$$\n",
    "Cov(X,Y) = E(XY) - E(X) E(Y)\n",
    "$$"
   ]
  },
  {
   "cell_type": "markdown",
   "metadata": {},
   "source": [
    "앞선 적분식들을 이용해 $E(Y)$를 추가적으로 구하면 쉽게 계산할 수 있다."
   ]
  },
  {
   "cell_type": "markdown",
   "metadata": {},
   "source": [
    "$2/21 - 1/9 = -1/63$"
   ]
  },
  {
   "cell_type": "markdown",
   "metadata": {},
   "source": [
    "# 예 2.2.9"
   ]
  },
  {
   "cell_type": "markdown",
   "metadata": {},
   "source": [
    "상관계수 구하기\n",
    "\n",
    "$$\n",
    "Corr(X,Y) = \\frac{Cov(X,Y)}{\\sqrt{V(X)}\\sqrt{V(Y)}} \\\\\n",
    "V(X) = E(X^2)- [E(X)]^2\n",
    "$$"
   ]
  },
  {
   "cell_type": "markdown",
   "metadata": {},
   "source": [
    "$$\n",
    "E(X^2) = \\int_0^1 \\int_0^{1-x} x^2 f(x,y) dydx = 1/7 \\\\\n",
    "\\therefore V(x)=1/7 - 1/9 = 2/63\n",
    "$$"
   ]
  },
  {
   "cell_type": "markdown",
   "metadata": {},
   "source": [
    "$$\n",
    "V(Y) = 2/63\n",
    "$$"
   ]
  },
  {
   "cell_type": "markdown",
   "metadata": {},
   "source": [
    "$$\n",
    "-(1/63)/(\\sqrt{2/63} \\cdot \\sqrt{2/63}) = -1/2\n",
    "$$"
   ]
  },
  {
   "cell_type": "markdown",
   "metadata": {},
   "source": [
    "이 문제는 두 확률변수 $ X $와 $ Y $의 **상관계수** $ \\text{Corr}(X, Y) $를 구하는 문제입니다. 상관계수는 공분산과 각각의 분산을 사용하여 계산합니다. 주어진 정보와 앞서 계산한 결과를 사용하여 단계별로 상관계수를 구하는 풀이를 진행하겠습니다.\n",
    "\n",
    "---\n",
    "\n",
    "### 1. **상관계수** 정의\n",
    "\n",
    "상관계수 $ \\text{Corr}(X, Y) $는 두 확률변수 $ X $와 $ Y $ 사이의 선형 상관관계를 측정하는 값으로, 다음과 같이 정의됩니다:\n",
    "\n",
    "$$\n",
    "\\text{Corr}(X, Y) = \\frac{\\text{Cov}(X, Y)}{\\sqrt{\\text{Var}(X) \\cdot \\text{Var}(Y)}}\n",
    "$$\n",
    "\n",
    "여기서:\n",
    "- $ \\text{Cov}(X, Y) $는 두 확률변수의 **공분산**입니다.\n",
    "- $ \\text{Var}(X) $와 $ \\text{Var}(Y) $는 각각의 **분산**입니다.\n",
    "\n",
    "---\n",
    "\n",
    "### 2. **분산 계산**\n",
    "\n",
    "#### (1) $ X $의 분산 $ \\text{Var}(X) $\n",
    "\n",
    "분산은 $ X $의 제곱의 기대값에서 $ X $의 기대값의 제곱을 뺀 값으로 정의됩니다:\n",
    "\n",
    "$$\n",
    "\\text{Var}(X) = \\mathbb{E}[X^2] - (\\mathbb{E}[X])^2\n",
    "$$\n",
    "\n",
    "- **$ \\mathbb{E}[X] $**는 앞서 계산한 바에 따르면 $ \\frac{1}{3} $입니다.\n",
    "- **$ \\mathbb{E}[X^2] $**는 다음과 같이 이중적분으로 구할 수 있습니다:\n",
    "\n",
    "$$\n",
    "\\mathbb{E}[X^2] = \\int_0^1 \\int_0^{1-x} x^2 f(x, y) \\, dy \\, dx\n",
    "$$\n",
    "\n",
    "결합확률밀도함수 $ f(x, y) = 120(1 - x - y) $를 대입하여 적분을 계산합니다. 제공된 값에 따르면:\n",
    "\n",
    "$$\n",
    "\\mathbb{E}[X^2] = \\frac{1}{7}\n",
    "$$\n",
    "\n",
    "따라서, $ X $의 분산은:\n",
    "\n",
    "$$\n",
    "\\text{Var}(X) = \\frac{1}{7} - \\left( \\frac{1}{3} \\right)^2 = \\frac{1}{7} - \\frac{1}{9} = \\frac{2}{63}\n",
    "$$\n",
    "\n",
    "#### (2) $ Y $의 분산 $ \\text{Var}(Y) $\n",
    "\n",
    "마찬가지로, $ Y $의 분산도 동일한 방식으로 계산할 수 있습니다. 문제에서 주어진 값에 따르면:\n",
    "\n",
    "$$\n",
    "\\text{Var}(Y) = \\frac{2}{63}\n",
    "$$\n",
    "\n",
    "---\n",
    "\n",
    "### 3. **공분산 $ \\text{Cov}(X, Y) $ 계산**\n",
    "\n",
    "공분산은 $ X $와 $ Y $의 곱에 대한 기대값에서 각각의 기대값의 곱을 뺀 값으로 정의됩니다:\n",
    "\n",
    "$$\n",
    "\\text{Cov}(X, Y) = \\mathbb{E}[XY] - \\mathbb{E}[X] \\mathbb{E}[Y]\n",
    "$$\n",
    "\n",
    "- **$ \\mathbb{E}[XY] $**는 앞서 계산한 바에 따르면 $ \\frac{2}{21} $입니다.\n",
    "- **$ \\mathbb{E}[X] = \\frac{1}{3} $, $ \\mathbb{E}[Y] = \\frac{1}{3} $**이므로:\n",
    "\n",
    "$$\n",
    "\\text{Cov}(X, Y) = \\frac{2}{21} - \\frac{1}{3} \\times \\frac{1}{3} = \\frac{2}{21} - \\frac{1}{9}\n",
    "$$\n",
    "\n",
    "공통 분모를 맞추면:\n",
    "\n",
    "$$\n",
    "\\text{Cov}(X, Y) = \\frac{2}{21} - \\frac{7}{63} = -\\frac{1}{63}\n",
    "$$\n",
    "\n",
    "---\n",
    "\n",
    "### 4. **상관계수 $ \\text{Corr}(X, Y) $ 계산**\n",
    "\n",
    "이제 $ X $와 $ Y $의 상관계수를 계산합니다. 상관계수 공식에 값들을 대입합니다:\n",
    "\n",
    "$$\n",
    "\\text{Corr}(X, Y) = \\frac{-\\frac{1}{63}}{\\sqrt{\\frac{2}{63}} \\cdot \\sqrt{\\frac{2}{63}}}\n",
    "$$\n",
    "\n",
    "분모는 다음과 같이 계산됩니다:\n",
    "\n",
    "$$\n",
    "\\sqrt{\\frac{2}{63}} \\cdot \\sqrt{\\frac{2}{63}} = \\frac{2}{63}\n",
    "$$\n",
    "\n",
    "따라서, 상관계수는:\n",
    "\n",
    "$$\n",
    "\\text{Corr}(X, Y) = \\frac{-\\frac{1}{63}}{\\frac{2}{63}} = -\\frac{1}{2}\n",
    "$$\n",
    "\n",
    "---\n",
    "\n",
    "### 최종 결론\n",
    "\n",
    "따라서, $ X $와 $ Y $의 **상관계수**는:\n",
    "\n",
    "$$\n",
    "\\text{Corr}(X, Y) = -\\frac{1}{2}\n",
    "$$\n",
    "\n",
    "이 결과는 $ X $와 $ Y $ 사이에 **음의 상관관계**가 있음을 나타냅니다. 이는 두 변수가 반비례 관계에 있음을 의미합니다."
   ]
  },
  {
   "cell_type": "markdown",
   "metadata": {},
   "source": [
    "# 예 2.3.4"
   ]
  },
  {
   "cell_type": "markdown",
   "metadata": {},
   "source": [
    "조건부확률밀도함수 구하기"
   ]
  },
  {
   "cell_type": "markdown",
   "metadata": {},
   "source": [
    "$$\n",
    "f(x,y) = 129xy(1-x-y) \\\\\n",
    "f(x) = 20x(1-x)^3\n",
    "if\\ X=x,\\ PDF_Y?\n",
    "$$"
   ]
  },
  {
   "cell_type": "markdown",
   "metadata": {},
   "source": [
    "$$\n",
    "f(Y|X=x) = \\frac{f(x,y)}{f(X=x)}\\\\\n",
    "= \\frac{6y(1-x-y)}{(1-x)^3} \\cdot I_{(0 \\le y \\le 1-x)}\n",
    "$$"
   ]
  },
  {
   "cell_type": "markdown",
   "metadata": {},
   "source": [
    "$$\n",
    "E(Y|X=x) = \\int_{y=0}^{y=1-x} y\\cdot f(Y|X=x) dy = \\frac{1}{2} (1-x)\n",
    "$$"
   ]
  },
  {
   "cell_type": "markdown",
   "metadata": {},
   "source": [
    "# 예 2.3.5"
   ]
  },
  {
   "cell_type": "markdown",
   "metadata": {},
   "source": [
    "조건부분산 구하기"
   ]
  },
  {
   "cell_type": "markdown",
   "metadata": {},
   "source": [
    "주어진 분포와 앞서 계산한 결과를 기반으로, 조건부 분산 $ \\text{Var}(Y|X=x) $를 구하는 과정을 설명하겠습니다.\n",
    "\n",
    "### **조건부 분산 $ \\text{Var}(Y | X = x) $** 의 정의\n",
    "\n",
    "조건부 분산은 특정 값 $ X = x $가 주어졌을 때, 확률변수 $ Y $의 분산을 의미합니다. 이는 조건부 기대값과 조건부 제곱 기대값을 통해 계산됩니다.\n",
    "\n",
    "$$\n",
    "\\text{Var}(Y | X = x) = \\mathbb{E}[(Y - \\mathbb{E}[Y|X=x])^2 | X=x]\n",
    "$$\n",
    "\n",
    "이를 전개하면:\n",
    "\n",
    "$$\n",
    "\\text{Var}(Y | X = x) = \\mathbb{E}[Y^2 | X=x] - (\\mathbb{E}[Y | X=x])^2\n",
    "$$\n",
    "\n",
    "이제 각각의 항을 구해보겠습니다.\n",
    "\n",
    "---\n",
    "\n",
    "### 1. **조건부 기대값 $ \\mathbb{E}[Y | X=x] $** 계산\n",
    "\n",
    "조건부 기대값 $ \\mathbb{E}[Y | X=x] $는 $ Y $에 대한 확률밀도함수 $ f_{Y|X}(y|x) $를 사용하여 계산할 수 있습니다.\n",
    "\n",
    "먼저 결합확률밀도함수 $ f(x, y) = 120(1 - x - y) $를 사용하여, 조건부 확률밀도함수 $ f_{Y|X}(y|x) $를 구할 수 있습니다.\n",
    "\n",
    "$$\n",
    "f_{Y|X}(y|x) = \\frac{f(x, y)}{f_X(x)}\n",
    "$$\n",
    "\n",
    "- **결합확률밀도함수** $ f(x, y) = 120(1 - x - y) $\n",
    "- **$ X $의 주변확률밀도함수** $ f_X(x) = 20x(1 - x)^3 $\n",
    "\n",
    "따라서 조건부 확률밀도함수는:\n",
    "\n",
    "$$\n",
    "f_{Y|X}(y|x) = \\frac{120(1 - x - y)}{20x(1 - x)^3} = \\frac{6(1 - x - y)}{x(1 - x)^3}\n",
    "$$\n",
    "\n",
    "이제 조건부 기대값 $ \\mathbb{E}[Y | X=x] $는 다음과 같이 계산됩니다:\n",
    "\n",
    "$$\n",
    "\\mathbb{E}[Y | X=x] = \\int_0^{1-x} y \\cdot f_{Y|X}(y|x) \\, dy\n",
    "$$\n",
    "\n",
    "$$\n",
    "\\mathbb{E}[Y | X=x] = \\int_0^{1-x} y \\cdot \\frac{6(1 - x - y)}{x(1 - x)^3} \\, dy\n",
    "$$\n",
    "\n",
    "이 적분을 계산하면 $ \\mathbb{E}[Y | X=x] = \\frac{1-x}{2} $가 됩니다.\n",
    "\n",
    "---\n",
    "\n",
    "### 2. **조건부 제곱 기대값 $ \\mathbb{E}[Y^2 | X = x] $** 계산\n",
    "\n",
    "조건부 제곱 기대값은 다음과 같이 계산됩니다:\n",
    "\n",
    "$$\n",
    "\\mathbb{E}[Y^2 | X=x] = \\int_0^{1-x} y^2 \\cdot f_{Y|X}(y|x) \\, dy\n",
    "$$\n",
    "\n",
    "$$\n",
    "\\mathbb{E}[Y^2 | X=x] = \\int_0^{1-x} y^2 \\cdot \\frac{6(1 - x - y)}{x(1 - x)^3} \\, dy\n",
    "$$\n",
    "\n",
    "이 적분을 수행하면, 결과는 $ \\mathbb{E}[Y^2 | X=x] = \\frac{(1 - x)^2}{3} $가 됩니다.\n",
    "\n",
    "---\n",
    "\n",
    "### 3. **조건부 분산 계산**\n",
    "\n",
    "이제 조건부 분산을 구할 수 있습니다:\n",
    "\n",
    "$$\n",
    "\\text{Var}(Y | X=x) = \\mathbb{E}[Y^2 | X=x] - (\\mathbb{E}[Y | X=x])^2\n",
    "$$\n",
    "\n",
    "값을 대입하면:\n",
    "\n",
    "$$\n",
    "\\text{Var}(Y | X=x) = \\frac{(1 - x)^2}{3} - \\left( \\frac{1 - x}{2} \\right)^2\n",
    "$$\n",
    "\n",
    "이를 계산하면:\n",
    "\n",
    "$$\n",
    "\\text{Var}(Y | X=x) = \\frac{(1 - x)^2}{3} - \\frac{(1 - x)^2}{4}\n",
    "$$\n",
    "\n",
    "공통 분모를 맞추면:\n",
    "\n",
    "$$\n",
    "\\text{Var}(Y | X=x) = \\frac{4(1 - x)^2}{12} - \\frac{3(1 - x)^2}{12} = \\frac{(1 - x)^2}{12}\n",
    "$$\n",
    "\n",
    "---\n",
    "\n",
    "### 최종 결론\n",
    "\n",
    "따라서, 조건부 분산 $ \\text{Var}(Y | X=x) $는 다음과 같이 주어집니다:\n",
    "\n",
    "$$\n",
    "\\text{Var}(Y | X=x) = \\frac{(1 - x)^2}{12}\n",
    "$$\n",
    "\n",
    "이 결과는 $ X = x $가 주어졌을 때, $ Y $의 분산을 나타냅니다."
   ]
  },
  {
   "cell_type": "markdown",
   "metadata": {},
   "source": [
    "# 예 2.3.6"
   ]
  },
  {
   "cell_type": "markdown",
   "metadata": {},
   "source": [
    "$$\n",
    "E(Y|X=x) = (1/2)(1-x) \\to E(Y|X) = (1/2)(1-X)\n",
    "$$"
   ]
  },
  {
   "cell_type": "markdown",
   "metadata": {},
   "source": [
    "# 예 2.3.7"
   ]
  },
  {
   "cell_type": "markdown",
   "metadata": {},
   "source": [
    "$$\n",
    "E(E(Y|X)) = E(Y) \\\\\n",
    "Cov(Y - E(Y|X), X) = 0 \\\\\n",
    "E(Y-E(Y|X)) \\cdot E(X) = [E(Y) - E(Y)] \\cdot E(X) =0\n",
    "$$"
   ]
  },
  {
   "cell_type": "markdown",
   "metadata": {},
   "source": [
    "$$\n",
    "E(E(Y|X)) = E((1-x)/2) = (1/2)(1-E(X)) = 1/3 = E(Y)\n",
    "$$"
   ]
  },
  {
   "cell_type": "markdown",
   "metadata": {},
   "source": [
    "$$\n",
    "Cov(Y-E(Y|X), X) = E([Y-E(Y|X)],X), \\quad where\\ E(Y|X) = (1-x)/2\\\\ \n",
    "E(XY) - E((1-x)/2) = E(XY) -[E(X) - E(X^2)]/2\n",
    "$$\n",
    "\n",
    "이미 구한 것들이므로 다 대입해서 계산한다."
   ]
  },
  {
   "cell_type": "markdown",
   "metadata": {},
   "source": [
    "$2/21 - 2/21 =0$이 결론"
   ]
  },
  {
   "cell_type": "markdown",
   "metadata": {},
   "source": [
    "# 예 2.3.8\n",
    "\n",
    "분산의 분해"
   ]
  },
  {
   "cell_type": "markdown",
   "metadata": {},
   "source": [
    "아래의 분해공식을 문제풀이에 이용한다.\n",
    "\n",
    "$$\n",
    "V(Y) = E(V(Y|X)) + V(E(Y|X))\n",
    "$$"
   ]
  },
  {
   "cell_type": "markdown",
   "metadata": {},
   "source": [
    "$$\n",
    "V(Y|X) = (1/20)(1-x)^2, \\quad E(Y|X) = (1-x)/2 \\\\\n",
    "E((1/20(1-x0^2))) + V((1-x)/2) = (1/20)(E(X^2) - 2E(X)+1) + (1/4)(V(X)) = 2/63\n",
    "$$"
   ]
  },
  {
   "cell_type": "markdown",
   "metadata": {},
   "source": [
    "# 예 2.3.2"
   ]
  },
  {
   "cell_type": "markdown",
   "metadata": {},
   "source": [
    "$$\n",
    "f(x,y) = 2e^{-x-y} \\cdot I_{(0 \\le x \\le y)}\\\\\n",
    "f(x)=2e^{-2x} \\cdot I_{(x \\ge 0)}\\\\\n",
    "f(Y|X=x) = \\frac{f(x,y)}{f(x)} = \\frac{2e^{-x-y} \\cdot I_{(0 \\le x \\le y)}}{2e^{-2x} \\cdot I_{(x \\ge 0)}} = e^{x-y} I_{(y \\ge x)}\n",
    "$$\n"
   ]
  },
  {
   "cell_type": "markdown",
   "metadata": {},
   "source": [
    "$$\n",
    "P(Y \\ge c | X=x) = \\int_c^{\\infty} \\frac{f(x,y)}{f(x)} dy = e^{-(c \\wedge x -x)}\n",
    "$$"
   ]
  }
 ],
 "metadata": {
  "language_info": {
   "name": "python"
  }
 },
 "nbformat": 4,
 "nbformat_minor": 2
}
