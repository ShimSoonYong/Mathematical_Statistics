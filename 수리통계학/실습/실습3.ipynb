{
 "cells": [
  {
   "cell_type": "markdown",
   "metadata": {},
   "source": [
    "# p.143 예 4.1.3"
   ]
  },
  {
   "cell_type": "markdown",
   "metadata": {},
   "source": [
    "(a) 번"
   ]
  },
  {
   "cell_type": "markdown",
   "metadata": {},
   "source": [
    "$$\n",
    "X_1 \\sim B(1,p),\\ X_1 + \\cdots X_n \\sum B(n,p)\\\\\n",
    "\\hat{p} = \\frac{X_1+ \\cdots + X_n}{n} \\to \\binom{n}{k}p^k (1-p)^{n0k} \\\\\n",
    "E(\\hat{p})=E \\left(\\frac{X_1 + \\cdots X_n}{n} \\right) = \\frac{np}{n}=p \\\\\n",
    "V(\\hat{p})=V \\left(\\frac{X_1 + \\cdots + X_n}{n} \\right) = \\frac{1}{n^2} \\times np(1-p) = \\frac{p(1-p)}{n}\n",
    "$$"
   ]
  },
  {
   "cell_type": "markdown",
   "metadata": {},
   "source": [
    "(b) 번"
   ]
  },
  {
   "cell_type": "markdown",
   "metadata": {},
   "source": [
    "$$\n",
    "X_1 \\sim Poi(\\lambda),\\ X_1 + \\cdots + X_n =Poi(n\\lambda)\\\\\n",
    "\\bar{X} = \\frac{e^{-n\\lambda}\\lambda(n\\lambda)^k}{k!}\\\\\n",
    "E(\\bar{X})=\\lambda\\\\\n",
    "V(\\bar{X})=\\frac{\\lambda}{n}"
   ]
  },
  {
   "cell_type": "markdown",
   "metadata": {},
   "source": [
    "# 예 4.1.4"
   ]
  },
  {
   "cell_type": "markdown",
   "metadata": {},
   "source": [
    "(a) 번"
   ]
  },
  {
   "cell_type": "markdown",
   "metadata": {},
   "source": [
    "$$\n",
    "X_1 \\sim B_1(n_1,p), X_2 \\sim B_2(n_2,p)\\\\\n",
    "Y \\equiv X_1 + X_2 \\\\\n",
    "pdf(Y) = pdf(X_1 + X_2) = \\sum pdf(X_1, X_2) = pdf(X_1) \\times pdf(X_2)\\\\\n",
    "\\sum_y \\binom{n_1}{x_1}p^{x_1}(1-p)^{n_1 -x_1} \\times \\binom{n_2}{x_2}p^{x_2}(1-p)^{n_2 -x_2}\\\\\n",
    "\\text{where }x_2 = y-x_1 \\\\\n",
    "= \\sum_{x_1=0}^{y} \\binom{n_1}{x_1}\\binom{n_2}{y-x_1}p^y (1-p)^{n_1+n_2 -y} \\\\\n",
    "\\text{By Vandermonde's identity: }\\binom{n_1}{x_1}\\binom{n_2}{y-x_1} \\to \\binom{n_1 + n_2}{y} \\\\\n",
    "= \\binom{n_1 + n_2}{y}p^y (1-p)^{n_1+n_2 -y} = B(n_1+n_2,p)\n",
    "$$"
   ]
  },
  {
   "cell_type": "markdown",
   "metadata": {},
   "source": [
    "(b) 번"
   ]
  },
  {
   "cell_type": "markdown",
   "metadata": {},
   "source": [
    "첫번째 식을 곱하면:\n",
    "$$\n",
    "\\sum \\frac{\\lambda^{x_1}_1\\lambda_2^{y-x_1}\\times e^{-\\lambda_1 -\\lambda_2}}{x!(y-x)!} \\cdot \\frac{y!}{y!} \\\\\n",
    "= \\sum_{x_1=0}^y \\binom{y}{x_1}\\lambda_1^{x_1}\\lambda_2^{y-x_1} \\cdot \\frac{e^{-\\lambda_1-\\lambda_2}}{y!}\\\\\n",
    "\\text{By binomial theorem: }\\frac{\\lambda_1 + \\lambda_2^y \\cdot e^{-\\lambda_1 - \\lambda_2}}{y!}\n",
    "$$"
   ]
  },
  {
   "cell_type": "markdown",
   "metadata": {},
   "source": [
    "(c) 번"
   ]
  },
  {
   "cell_type": "markdown",
   "metadata": {},
   "source": [
    "$$\n",
    "Y=X^2,\\ pdf(Y)=pdf(X^2)\\\\\n",
    "F'(y) = pdf(y)\\\\\n",
    "F(Y) = p(Y\\le y) = P(X^2 \\le y)=P(-\\sqrt{y}\\le x \\le \\sqrt{y}) \\\\\n",
    "P(x \\le \\sqrt{y}) - P(x \\le -\\sqrt{y}) = F(Y) \\\\\n",
    "F'(Y) = \\frac{1}{2\\sqrt{y}} \\left[P(\\sqrt{y}) + P(-\\sqrt{y})\\right] \\\\\n",
    "\\text{where }N(0,1) = \\frac{1}{\\sqrt{2\\pi}}e^{1/2 x^2},\\ x \\equiv \\sqrt{y}\\\\\n",
    "=\\frac{1}{\\sqrt{2\\pi}}y^{-1/2} e^{1/2 y} = \\frac{1}{\\Gamma(\\alpha)\\beta^{\\alpha}} x^{\\alpha -1}e^{-1/\\beta x},\\text{ where }\\alpha=1/2,\\ \\beta=2 = Gamma(1/2, 2)\n",
    "$$"
   ]
  },
  {
   "cell_type": "markdown",
   "metadata": {},
   "source": [
    "# 예 4.1.5"
   ]
  },
  {
   "cell_type": "markdown",
   "metadata": {},
   "source": [
    "$$\n",
    "X=\\sigma Z + \\mu \\sim N(\\mu, \\sigma^2) \\\\\n",
    "\n",
    "pdf(x)= f(z)\\left|\\frac{dz}{dx}\\right| = \\frac{1}{\\sigma}f\\left(\\frac{x-\\mu}{\\sigma} \\right)\n",
    "$$"
   ]
  },
  {
   "cell_type": "markdown",
   "metadata": {},
   "source": [
    "(a) 번: 정규분포"
   ]
  },
  {
   "cell_type": "markdown",
   "metadata": {},
   "source": [
    "$$\n",
    "N(\\mu, \\sigma^2)\\equiv \\sigma \\times N(0,1) + \\mu \\\\\n",
    "pdf(x) = \\frac{1}{\\sigma} f\\left(\\frac{x-\\mu}{\\sigma}\\right),\\ f(z) = \\frac{1}{2\\pi}e^{-\\frac{1}{2}z^2}\\\\\n",
    "\\therefore\\ X \\sim N(\\mu, \\sigma^2) \\to X \\equiv \\sigma Z + \\mu, \\text{where } Z \\sim N(0,1)\n",
    "$$"
   ]
  },
  {
   "cell_type": "markdown",
   "metadata": {},
   "source": [
    "(e) 번: 지수분포"
   ]
  },
  {
   "cell_type": "markdown",
   "metadata": {},
   "source": [
    "$$\n",
    "Exp(\\sigma)=\\sigma \\times Exp(1), \\text{ there is no }\\mu.\\\\\n",
    "X \\sim Exp(\\sigma) \\to X\\equiv \\sigma Z,\\text{ where }Z \\sim Exp(1)"
   ]
  },
  {
   "cell_type": "markdown",
   "metadata": {},
   "source": [
    "(f) 번: 감마분포"
   ]
  },
  {
   "cell_type": "markdown",
   "metadata": {},
   "source": [
    "$$\n",
    "Gamma(\\alpha, \\beta) \\equiv \\beta \\cdot Gamm(\\alpha,1)\\\\\n",
    "\\therefore\\ X \\sim Gamma(\\alpha, \\beta) \\to X \\equiv \\beta \\times Z, \\text{ where } Z \\sim Gamma(\\alpha, 1)\n",
    "$$"
   ]
  },
  {
   "cell_type": "markdown",
   "metadata": {},
   "source": [
    "__시험에 어렵게 나오는 내용은 아니다. 깊게 할 필요는 없다.__"
   ]
  }
 ],
 "metadata": {
  "language_info": {
   "name": "python"
  }
 },
 "nbformat": 4,
 "nbformat_minor": 2
}
