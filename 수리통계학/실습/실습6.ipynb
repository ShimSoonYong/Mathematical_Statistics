{
 "cells": [
  {
   "cell_type": "markdown",
   "metadata": {},
   "source": [
    "# p203 정리 5.1.1"
   ]
  },
  {
   "cell_type": "markdown",
   "metadata": {},
   "source": [
    "$$\n",
    "X_1, ..., X_n \\sim \\text{iid }?\n",
    "$$\n",
    "\n",
    "$$\n",
    "\\lim_{n\\to\\infty}P\\left(\\frac{\\frac{X_1+\\cdots + X_n}{n}-\\mu}{\\sigma / \\sqrt{n}}\\right) \\approx P(z \\le x)\n",
    "$$"
   ]
  },
  {
   "cell_type": "markdown",
   "metadata": {},
   "source": [
    "$$\n",
    "\\lim_{n\\to\\infty} mgf_{\\sqrt{n}(\\bar{X}-\\mu)/\\sigma}(t) = mgf_z(t) = e^{\\frac{t^2}{2}}\n",
    "$$"
   ]
  },
  {
   "cell_type": "markdown",
   "metadata": {},
   "source": [
    "$$\n",
    "\\lim_{n\\to\\infty} mgf_{\\sqrt{n}(\\bar{X}-\\mu)/\\sigma}(t) = E[e^{tx}] = E\\left[e^{\\frac{t\\sqrt{n}(\\bar{X}-\\mu)}{\\sigma}}\\right]\n",
    "$$\n",
    "\n",
    "$$\n",
    "= E\\left[e^{\\frac{t}{\\sqrt{n}}\\left(\\frac{X_1 - \\mu}{\\sigma} + \\cdots + \\frac{X_n - \\mu}{\\sigma} \\right)}\\right]\n",
    "$$"
   ]
  },
  {
   "cell_type": "markdown",
   "metadata": {},
   "source": [
    "$$\n",
    "=\\left[E(e^{\\frac{t}{\\sqrt{n}}\\frac{X_1 - \\mu}{\\sigma}})\\right]^n = \\left[mgf_{\\frac{X_1 -\\mu}{\\sigma}}\\left(\\frac{t}{\\sqrt{n}}\\right)\\right]^n\n",
    "$$"
   ]
  },
  {
   "cell_type": "markdown",
   "metadata": {},
   "source": [
    "테일러 급수: $f(x), x=a$ 일 때 무한으로 미분 가능하면 무한급수로 x 값을 근사할 수 있다."
   ]
  },
  {
   "cell_type": "markdown",
   "metadata": {},
   "source": [
    "$$\n",
    "f(x) = f(a) + \\frac{f'(a)}{1!}(x-a) + \\frac{f''(a)}{2!}(x-a)^2 + \\cdots + \\frac{f^n(a)}{n!}(x-a)^n\n",
    "$$\n",
    "\n",
    "$$\n",
    "f(x) = \\sum_{n=0}^{\\infty}\\frac{f^n(a)}{n!}(x-a)^n\n",
    "$$"
   ]
  },
  {
   "cell_type": "markdown",
   "metadata": {},
   "source": [
    "적률생성함수를 테일러 급수의 일종인 맥클로린 급수로 근사:"
   ]
  },
  {
   "cell_type": "markdown",
   "metadata": {},
   "source": [
    "$$\n",
    "M(s) = mgf_{\\frac{X_1 - \\mu}{\\sigma}}(s),\\quad \\text{where }s = \\frac{t}{\\sqrt{n}}\n",
    "$$"
   ]
  },
  {
   "cell_type": "markdown",
   "metadata": {},
   "source": [
    "$$\n",
    "m\\left(\\frac{t}{\\sqrt{n}}\\right) = m(0) + \\frac{m'(0)}{1!}\\cdot \\frac{t}{\\sqrt{n}} + \\frac{m''(0)}{2!} \\cdot \\left(\\frac{t}{\\sqrt{n}} \\right)^2 + R_{n,t}\n",
    "$$"
   ]
  },
  {
   "cell_type": "markdown",
   "metadata": {},
   "source": [
    "적률생성함수는 지수함수: \n",
    "$$\n",
    "\\because\\ E\\left[e^{\\frac{X_1 - \\mu}{\\sigma}\\cdot \\frac{t}{\\sqrt{n}}}\\right]\n",
    "$$"
   ]
  },
  {
   "cell_type": "markdown",
   "metadata": {},
   "source": [
    "$$\n",
    "= 1 + E\\left[\\frac{X_1 - \\mu}{\\sigma}\\right]\\cdot \\frac{t}{\\sqrt{n}}+E\\left[\\frac{X_1 - \\mu}{\\sigma}\\right]^2 \\cdot \\frac{t^2}{2n} + R_{n,t}\n",
    "$$\n",
    "\n",
    "$$\n",
    "= 1 + \\cancel{\\frac{E(X_1 - \\mu)}{\\sigma}\\cdot \\frac{t}{\\sqrt{n}}} + \\cancel{\\frac{E(X_1 - \\mu)^2}{\\sigma^2}}\\cdot \\frac{t^2}{2n}+ R_{n,t}\n",
    "$$"
   ]
  },
  {
   "cell_type": "markdown",
   "metadata": {},
   "source": [
    "$$\n",
    "\\therefore\\ mgf_{\\frac{\\sqrt{n}(\\bar{X}-\\mu)}{\\sigma}}(t)=\\left(1+\\frac{t^2}{2n}+ R_{n,t}\\right)^n\n",
    "$$"
   ]
  },
  {
   "cell_type": "markdown",
   "metadata": {},
   "source": [
    "양변에 로그(누율생성함수):\n",
    "\n",
    "$$\n",
    "\\therefore\\ \\ln{mgf_{\\frac{\\sqrt{n}(\\bar{X}-\\mu)}{\\sigma}}(t)}=\\ln{\\left(1+\\frac{t^2}{2n}+ R_{n,t}\\right)^n}\n",
    "$$"
   ]
  },
  {
   "cell_type": "markdown",
   "metadata": {},
   "source": [
    "이 형태는 맥클로린 급수가 적용 가능한 형태이다.  \n",
    "맥클로린 급수:\n",
    "$$\n",
    "\\because\\ \\ln(1+x) = x - \\frac{x^2}{2}+ \\frac{x^3}{3} - \\frac{x^4}{4}+ \\cdots\n",
    "$$"
   ]
  },
  {
   "cell_type": "markdown",
   "metadata": {},
   "source": [
    "$$\n",
    " = \\left(\\frac{t^2}{2n} + R_{n,t}\\right)\\times n \n",
    "$$\n",
    "\n",
    "$$\n",
    "\\therefore\\ \\lim_{n\\to\\infty}mgf(t) = e^{\\frac{t^2}{2n}n} = e^{\\frac{t^2}{2}} = mgf_z(t)\n",
    "$$\n",
    "\n",
    "따라서 표준정규분포의 적률생성함수와 표본평균의 적률생성함수는 같다."
   ]
  },
  {
   "cell_type": "markdown",
   "metadata": {},
   "source": [
    "# 이항분포의 중심극한정리"
   ]
  },
  {
   "cell_type": "markdown",
   "metadata": {},
   "source": [
    "$$\n",
    "\\lim_{n\\to\\infty}P\\left(\\frac{\\frac{X_1 + \\cdots X_n}{n}-\\mu}{\\sigma/\\sqrt{n}}\\right) = P(z\\le x)\n",
    "$$"
   ]
  }
 ],
 "metadata": {
  "kernelspec": {
   "display_name": "ML_env",
   "language": "python",
   "name": "python3"
  },
  "language_info": {
   "codemirror_mode": {
    "name": "ipython",
    "version": 3
   },
   "file_extension": ".py",
   "mimetype": "text/x-python",
   "name": "python",
   "nbconvert_exporter": "python",
   "pygments_lexer": "ipython3",
   "version": "3.9.20"
  }
 },
 "nbformat": 4,
 "nbformat_minor": 2
}
